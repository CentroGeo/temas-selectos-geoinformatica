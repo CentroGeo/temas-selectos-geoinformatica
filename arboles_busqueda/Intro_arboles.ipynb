{
 "cells": [
  {
   "cell_type": "markdown",
   "id": "3c6a14c1-ad8e-4965-88b4-394a48d1322f",
   "metadata": {},
   "source": [
    "# Árboles de busqueda \n",
    "\n",
    "\n",
    "## Justificacion \n",
    "\n",
    "El las ciencias geoespaciales el uso de las coordenadas georeferenciadas es común debido al uso frecuente de dispositivos con GPS. La gran cantidad de dispositivos y su uso frecuente ha generado que se tenga una gran cantidad de datos de los cuales se puede extraer información valiosa. Las compañias y gobiernos se han visto en la necesidad de implementar estructuras de datos que sean capaces de manejar los grandes volúmenes y que estén orientados al manejo específico de los datos georeferenciados. Muestras de las distintas aplicaciones son goolgle maps, open stret maps, waze, facebook, twitter, Uber etc. \n",
    "\n",
    "¿ Como podemos manejar de forma eficiente los datos georeferenciados ? \n",
    "\n",
    "Las estructuras de datos tienen que se eficiente y eficazes para poder ser útiles en aplicaciones que requieran de tiempos de respuesta mínimos por tal motivo es importante conocer las estructuras de datos que nos permiten un manejo eficiente de lod datos para poder hacer \n",
    "\n",
    "\n",
    "\n",
    "### Que es un árbol \n",
    "\n",
    "Un árbol en teoría de gráficas es una gráfica conexa que no tiene ciclos. En ciencias de la computacion los aŕboles nos permiten organizar distintas cosas (imágenes , datos redesinformación) que tienen un cierto orden jerárquico. Los árboles son usados en distintos ámbitos en esta clase veremos su uso para el manejo de los datos geofererenciados y como se usan para dar un orden que nos permita tener acceso a estos de forma rápida y eficiente   \n",
    " \n",
    "\n"
   ]
  },
  {
   "cell_type": "code",
   "execution_count": 12,
   "id": "f5b2bab5-6bec-4815-a012-bda4f1a37231",
   "metadata": {},
   "outputs": [],
   "source": [
    "from IPython import display\n",
    "class PDF(object):\n",
    "  def __init__(self, pdf, size=(200,200)):\n",
    "    self.pdf = pdf\n",
    "    self.size = size\n",
    "\n",
    "  def _repr_html_(self):\n",
    "    return '<iframe src={0} width={1[0]} height={1[1]}></iframe>'.format(self.pdf, self.size)\n",
    "\n",
    "  def _repr_latex_(self):\n",
    "    return r'\\includegraphics[width=1.0\\textwidth]{{{0}}}'.format(self.pdf)"
   ]
  },
  {
   "cell_type": "markdown",
   "id": "c82b02a5-b5cc-4311-a3bd-e626efd70750",
   "metadata": {},
   "source": [
    "Gráfica"
   ]
  },
  {
   "cell_type": "code",
   "execution_count": 21,
   "id": "1da9ed80-03a9-4a02-82dc-28922e218641",
   "metadata": {},
   "outputs": [
    {
     "data": {
      "text/html": [
       "<iframe src=./arbol_5.pdf width=500 height=500></iframe>"
      ],
      "text/latex": [
       "\\includegraphics[width=1.0\\textwidth]{./arbol_5.pdf}"
      ],
      "text/plain": [
       "<__main__.PDF at 0x7f6efc37fd50>"
      ]
     },
     "execution_count": 21,
     "metadata": {},
     "output_type": "execute_result"
    }
   ],
   "source": [
    "PDF('./arbol_5.pdf',size=(500,500))\n"
   ]
  },
  {
   "cell_type": "markdown",
   "id": "7f65e479-e5b5-400b-a3e5-bc9249df340f",
   "metadata": {},
   "source": [
    "Distintos tipos de árboles "
   ]
  },
  {
   "cell_type": "code",
   "execution_count": 17,
   "id": "798475b3-d985-46da-b291-ab0f5bb2473c",
   "metadata": {},
   "outputs": [
    {
     "data": {
      "text/html": [
       "\n",
       "        <iframe\n",
       "            width=\"250\"\n",
       "            height=\"300\"\n",
       "            src=\"./arbol_1.pdf\"\n",
       "            frameborder=\"0\"\n",
       "            allowfullscreen\n",
       "        ></iframe>\n",
       "        "
      ],
      "text/plain": [
       "<IPython.lib.display.IFrame at 0x7f6efc32f850>"
      ]
     },
     "execution_count": 17,
     "metadata": {},
     "output_type": "execute_result"
    }
   ],
   "source": [
    "###\n",
    "IFrame(\"./arbol_1.pdf\",  width=250, height=300)"
   ]
  },
  {
   "cell_type": "code",
   "execution_count": 5,
   "id": "de4460d7-0144-4e9f-8ce7-17f048a2db0b",
   "metadata": {},
   "outputs": [
    {
     "data": {
      "text/html": [
       "\n",
       "        <iframe\n",
       "            width=\"300\"\n",
       "            height=\"425\"\n",
       "            src=\"./arbol_4.pdf\"\n",
       "            frameborder=\"0\"\n",
       "            allowfullscreen\n",
       "        ></iframe>\n",
       "        "
      ],
      "text/plain": [
       "<IPython.lib.display.IFrame at 0x7f6efc32f090>"
      ]
     },
     "execution_count": 5,
     "metadata": {},
     "output_type": "execute_result"
    }
   ],
   "source": [
    "###Arbol \n",
    "from IPython.display import IFrame\n",
    "IFrame(\"./arbol_4.pdf\", width=300, height=425)\n",
    "\n"
   ]
  },
  {
   "cell_type": "code",
   "execution_count": 23,
   "id": "739aef15-c1d6-4a27-8b87-0c4f50d63dcd",
   "metadata": {},
   "outputs": [
    {
     "data": {
      "text/html": [
       "<iframe src=./arbol_3.pdf width=500 height=200></iframe>"
      ],
      "text/latex": [
       "\\includegraphics[width=1.0\\textwidth]{./arbol_3.pdf}"
      ],
      "text/plain": [
       "<__main__.PDF at 0x7f6efc3c6350>"
      ]
     },
     "execution_count": 23,
     "metadata": {},
     "output_type": "execute_result"
    }
   ],
   "source": [
    "### Arbol Binario\n",
    "PDF('./arbol_3.pdf',size=(500,200))\n"
   ]
  },
  {
   "cell_type": "code",
   "execution_count": null,
   "id": "8b1260c5-b08a-4332-b78c-8f2a8366d2ed",
   "metadata": {},
   "outputs": [],
   "source": []
  },
  {
   "cell_type": "code",
   "execution_count": 18,
   "id": "bb7ca44b-4ef5-4e78-b10e-302215946dc0",
   "metadata": {},
   "outputs": [],
   "source": [
    "\n"
   ]
  },
  {
   "cell_type": "code",
   "execution_count": null,
   "id": "34da779e-b65c-4051-a3c4-52907a443dbe",
   "metadata": {},
   "outputs": [],
   "source": []
  },
  {
   "cell_type": "code",
   "execution_count": null,
   "id": "093afdbe-e688-43ed-84f1-16244cdb1e6b",
   "metadata": {},
   "outputs": [],
   "source": []
  }
 ],
 "metadata": {
  "kernelspec": {
   "display_name": "Python 3 (ipykernel)",
   "language": "python",
   "name": "python3"
  },
  "language_info": {
   "codemirror_mode": {
    "name": "ipython",
    "version": 3
   },
   "file_extension": ".py",
   "mimetype": "text/x-python",
   "name": "python",
   "nbconvert_exporter": "python",
   "pygments_lexer": "ipython3",
   "version": "3.7.11"
  }
 },
 "nbformat": 4,
 "nbformat_minor": 5
}
