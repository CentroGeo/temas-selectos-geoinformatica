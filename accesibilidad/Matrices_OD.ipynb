{
 "cells": [
  {
   "cell_type": "markdown",
   "id": "e5e1acd8-6274-47bf-90e2-f60aa3bc1909",
   "metadata": {},
   "source": [
    "# Mejores matrices Origen-Destino\n",
    "\n",
    "En el primer notebook de accesibiliodad implementamos nuestros modelos utilizando la distancia euclidiana. Esto es, desde luego, relativamente sencillo de calcular, sin embargo claramente no es lo ideal. El siguiente paso lógico es utilizar la conectividad sobre la red de calles.\n",
    "\n",
    "Hay muchísimas formas de obtener matrices de costo utilizando la red de calles, desde luego todas ellas van a tener algunas complicaciones, se necesitan más datos (la red de calles, dah) y es computacionalmente intensivo. En la documentación de access tenemos una [lista](https://access.readthedocs.io/en/latest/resources.html) de diferentes herramientas para crear estas matrices.\n",
    "\n",
    "Nosotros vamos a usar en este ejemplo [OSRM](http://project-osrm.org/) que es un motor de rutas que utiliza datos de OSM. Para esto tenemos una instalación de OSRM en un servidor de CentroGeo. Para acceder a ese servidor tienen que sacar una cuenta con su correo institucional en [tailscale](tailscale.com). Ya que tengan su cuenta necesitan seguir las [instrucciones](https://tailscale.com/download/windows) para instalar el cliente de tailscale en su plataforma. Ya con el cliente configurado pueden acceder a la interfaz gráfica aquí:\n",
    "\n",
    "http://100.67.66.19:9966/\n",
    "\n",
    "En lo que sigue de este notebook voy a usar datalab en lugar de la ip para escribir menos (para que eso funcione necesitan editar el hosts file de sus compus o el equivalente en windows).\n",
    "\n",
    "OSRM es un servidor que nos provee un API para hacer algunos cálculos de rutas. La documentación completa del API la pueden ver [aquí](http://project-osrm.org/docs/v5.24.0/api/#). Para hacer peticiones al API desde Python, vamos a usar la librería [requests](https://docs.python-requests.org/en/master/). Para empezar, hagamos una petición pidiendo la ruta y las instrucciones entre dos puntos. "
   ]
  },
  {
   "cell_type": "markdown",
   "id": "21e5cf4e-23ac-486e-9857-2d9b759e72e7",
   "metadata": {},
   "source": [
    "## Ejemplo de ruta"
   ]
  },
  {
   "cell_type": "code",
   "execution_count": 1,
   "id": "04168179-7e1a-4c3a-89ef-d66ad835d3fb",
   "metadata": {},
   "outputs": [
    {
     "data": {
      "text/plain": [
       "{'code': 'Ok',\n",
       " 'routes': [{'geometry': 'oqbuBjcc|Q|Fn@VqB`IhA?zCyEh@CSg@@FhBM??[_@@aCtBeEl]bEv]_AV_EbCmAb@\\\\hCmDf@vDb\\\\',\n",
       "   'legs': [{'steps': [{'intersections': [{'out': 0,\n",
       "         'entry': [True],\n",
       "         'bearings': [192],\n",
       "         'location': [-99.144376, 19.351441]},\n",
       "        {'out': 2,\n",
       "         'location': [-99.144546, 19.350626],\n",
       "         'bearings': [15, 90, 195, 270],\n",
       "         'entry': [False, True, True, True],\n",
       "         'in': 0},\n",
       "        {'out': 2,\n",
       "         'location': [-99.144595, 19.350288],\n",
       "         'bearings': [15, 105, 195, 285],\n",
       "         'entry': [False, True, True, True],\n",
       "         'in': 0}],\n",
       "       'driving_side': 'right',\n",
       "       'geometry': 'oqbuBjcc|QRBlC\\\\bAHVB',\n",
       "       'mode': 'walking',\n",
       "       'duration': 103.7,\n",
       "       'maneuver': {'bearing_after': 192,\n",
       "        'type': 'depart',\n",
       "        'modifier': 'left',\n",
       "        'bearing_before': 0,\n",
       "        'location': [-99.144376, 19.351441]},\n",
       "       'weight': 103.7,\n",
       "       'distance': 143.9,\n",
       "       'name': 'Calle Tenis'},\n",
       "      {'intersections': [{'out': 1,\n",
       "         'location': [-99.144618, 19.350168],\n",
       "         'bearings': [15, 105, 195, 285],\n",
       "         'entry': [False, True, True, True],\n",
       "         'in': 0}],\n",
       "       'driving_side': 'right',\n",
       "       'geometry': 'qibuBzdc|QVqB',\n",
       "       'mode': 'walking',\n",
       "       'duration': 44,\n",
       "       'maneuver': {'bearing_after': 101,\n",
       "        'type': 'turn',\n",
       "        'modifier': 'left',\n",
       "        'bearing_before': 189,\n",
       "        'location': [-99.144618, 19.350168]},\n",
       "       'weight': 44,\n",
       "       'distance': 61.1,\n",
       "       'name': 'Calle Nadadores'},\n",
       "      {'intersections': [{'out': 2,\n",
       "         'location': [-99.144049, 19.350051],\n",
       "         'bearings': [15, 105, 195, 285],\n",
       "         'entry': [True, True, True, False],\n",
       "         'in': 3}],\n",
       "       'driving_side': 'right',\n",
       "       'geometry': 'yhbuBhac|Q`IhA',\n",
       "       'mode': 'walking',\n",
       "       'duration': 132,\n",
       "       'maneuver': {'bearing_after': 191,\n",
       "        'type': 'turn',\n",
       "        'modifier': 'right',\n",
       "        'bearing_before': 101,\n",
       "        'location': [-99.144049, 19.350051]},\n",
       "       'weight': 132,\n",
       "       'distance': 183.3,\n",
       "       'name': 'Calle Futbol'},\n",
       "      {'intersections': [{'out': 2,\n",
       "         'location': [-99.144419, 19.34844],\n",
       "         'bearings': [15, 90, 270],\n",
       "         'entry': [False, True, True],\n",
       "         'in': 0}],\n",
       "       'driving_side': 'right',\n",
       "       'geometry': 'w~auBrcc|QA|@@|A',\n",
       "       'mode': 'walking',\n",
       "       'duration': 58.8,\n",
       "       'maneuver': {'bearing_after': 270,\n",
       "        'type': 'turn',\n",
       "        'modifier': 'right',\n",
       "        'bearing_before': 191,\n",
       "        'location': [-99.144419, 19.34844]},\n",
       "       'weight': 58.8,\n",
       "       'distance': 81.7,\n",
       "       'name': 'Calle Patinadores'},\n",
       "      {'intersections': [{'out': 2,\n",
       "         'location': [-99.145197, 19.348438],\n",
       "         'bearings': [90, 165, 345],\n",
       "         'entry': [False, True, True],\n",
       "         'in': 0}],\n",
       "       'driving_side': 'right',\n",
       "       'geometry': 'w~auBnhc|Q_@FoARiBL',\n",
       "       'mode': 'walking',\n",
       "       'duration': 89.2,\n",
       "       'maneuver': {'bearing_after': 344,\n",
       "        'type': 'turn',\n",
       "        'modifier': 'right',\n",
       "        'bearing_before': 268,\n",
       "        'location': [-99.145197, 19.348438]},\n",
       "       'weight': 89.2,\n",
       "       'distance': 123.8,\n",
       "       'name': 'Calzada de Tlalpan'},\n",
       "      {'intersections': [{'out': 1,\n",
       "         'location': [-99.145413, 19.349531],\n",
       "         'bearings': [0, 75, 180],\n",
       "         'entry': [True, True, False],\n",
       "         'in': 2}],\n",
       "       'driving_side': 'right',\n",
       "       'geometry': 'qebuBxic|QCSI?]@',\n",
       "       'mode': 'walking',\n",
       "       'duration': 24.6,\n",
       "       'maneuver': {'bearing_after': 81,\n",
       "        'type': 'turn',\n",
       "        'modifier': 'right',\n",
       "        'bearing_before': 351,\n",
       "        'location': [-99.145413, 19.349531]},\n",
       "       'weight': 24.6,\n",
       "       'distance': 34.1,\n",
       "       'name': ''},\n",
       "      {'intersections': [{'out': 1,\n",
       "         'location': [-99.145324, 19.349754],\n",
       "         'bearings': [180, 270, 345],\n",
       "         'entry': [False, True, True],\n",
       "         'in': 0}],\n",
       "       'driving_side': 'right',\n",
       "       'geometry': '}fbuBfic|QFhBM??[',\n",
       "       'mode': 'walking',\n",
       "       'duration': 55.8,\n",
       "       'maneuver': {'bearing_after': 264,\n",
       "        'type': 'turn',\n",
       "        'modifier': 'left',\n",
       "        'bearing_before': 355,\n",
       "        'location': [-99.145324, 19.349754]},\n",
       "       'weight': 55.8,\n",
       "       'distance': 77.5,\n",
       "       'name': ''},\n",
       "      {'intersections': [{'out': 0,\n",
       "         'location': [-99.145709, 19.349776],\n",
       "         'bearings': [0, 165, 270],\n",
       "         'entry': [True, True, False],\n",
       "         'in': 2},\n",
       "        {'out': 0,\n",
       "         'location': [-99.145711, 19.349798],\n",
       "         'bearings': [0, 180, 285],\n",
       "         'entry': [True, False, True],\n",
       "         'in': 1}],\n",
       "       'driving_side': 'right',\n",
       "       'geometry': 'cgbuBtkc|QC?[@',\n",
       "       'mode': 'walking',\n",
       "       'duration': 12.9,\n",
       "       'maneuver': {'bearing_after': 354,\n",
       "        'type': 'turn',\n",
       "        'modifier': 'left',\n",
       "        'bearing_before': 90,\n",
       "        'location': [-99.145709, 19.349776]},\n",
       "       'weight': 12.9,\n",
       "       'distance': 17.8,\n",
       "       'name': 'Calzada de Tlalpan'},\n",
       "      {'intersections': [{'out': 2,\n",
       "         'location': [-99.145719, 19.349936],\n",
       "         'bearings': [0, 180, 315],\n",
       "         'entry': [True, False, True],\n",
       "         'in': 1},\n",
       "        {'out': 2,\n",
       "         'location': [-99.146312, 19.350588],\n",
       "         'bearings': [90, 135, 285],\n",
       "         'entry': [True, False, True],\n",
       "         'in': 1},\n",
       "        {'out': 3,\n",
       "         'location': [-99.146574, 19.350639],\n",
       "         'bearings': [15, 105, 195, 285],\n",
       "         'entry': [True, False, True, True],\n",
       "         'in': 1},\n",
       "        {'out': 2,\n",
       "         'location': [-99.147321, 19.350778],\n",
       "         'bearings': [15, 105, 285],\n",
       "         'entry': [True, False, True],\n",
       "         'in': 1},\n",
       "        {'out': 2,\n",
       "         'location': [-99.147623, 19.350844],\n",
       "         'bearings': [105, 195, 285],\n",
       "         'entry': [False, True, True],\n",
       "         'in': 0},\n",
       "        {'out': 2,\n",
       "         'location': [-99.148489, 19.351021],\n",
       "         'bearings': [15, 105, 285],\n",
       "         'entry': [True, False, True],\n",
       "         'in': 1},\n",
       "        {'out': 2,\n",
       "         'location': [-99.148534, 19.351029],\n",
       "         'bearings': [105, 195, 285],\n",
       "         'entry': [False, True, True],\n",
       "         'in': 0},\n",
       "        {'out': 3,\n",
       "         'location': [-99.14927, 19.351182],\n",
       "         'bearings': [15, 105, 195, 285],\n",
       "         'entry': [True, False, True, True],\n",
       "         'in': 1},\n",
       "        {'out': 2,\n",
       "         'location': [-99.15014, 19.351363],\n",
       "         'bearings': [105, 195, 285],\n",
       "         'entry': [False, True, True],\n",
       "         'in': 0},\n",
       "        {'out': 2,\n",
       "         'location': [-99.15118, 19.351577],\n",
       "         'bearings': [15, 105, 270],\n",
       "         'entry': [True, False, True],\n",
       "         'in': 1},\n",
       "        {'out': 2,\n",
       "         'location': [-99.15132, 19.35157],\n",
       "         'bearings': [90, 165, 255, 345],\n",
       "         'entry': [False, True, True, True],\n",
       "         'in': 0}],\n",
       "       'driving_side': 'right',\n",
       "       'geometry': 'chbuBvkc|Q[RkA`AY^Ir@[tCKz@c@lDAFOjAMfAc@lD_@tCKx@?N@JBX',\n",
       "       'mode': 'walking',\n",
       "       'duration': 470.3,\n",
       "       'maneuver': {'bearing_after': 322,\n",
       "        'type': 'turn',\n",
       "        'modifier': 'slight left',\n",
       "        'bearing_before': 355,\n",
       "        'location': [-99.145719, 19.349936]},\n",
       "       'weight': 470.3,\n",
       "       'distance': 647.7,\n",
       "       'name': 'Calle Héroes del 47'},\n",
       "      {'intersections': [{'out': 2,\n",
       "         'location': [-99.151454, 19.351548],\n",
       "         'bearings': [75, 165, 255, 345],\n",
       "         'entry': [False, True, True, True],\n",
       "         'in': 0},\n",
       "        {'out': 2,\n",
       "         'location': [-99.151615, 19.351514],\n",
       "         'bearings': [75, 195, 255],\n",
       "         'entry': [False, True, True],\n",
       "         'in': 0},\n",
       "        {'out': 2,\n",
       "         'location': [-99.152727, 19.35128],\n",
       "         'bearings': [15, 75, 255],\n",
       "         'entry': [True, False, True],\n",
       "         'in': 1},\n",
       "        {'out': 3,\n",
       "         'location': [-99.15324, 19.35117],\n",
       "         'bearings': [0, 75, 195, 255],\n",
       "         'entry': [True, False, True, True],\n",
       "         'in': 1},\n",
       "        {'out': 2,\n",
       "         'location': [-99.154979, 19.35081],\n",
       "         'bearings': [75, 180, 255],\n",
       "         'entry': [False, True, True],\n",
       "         'in': 0},\n",
       "        {'out': 2,\n",
       "         'location': [-99.155659, 19.350663],\n",
       "         'bearings': [45, 75, 255],\n",
       "         'entry': [True, False, True],\n",
       "         'in': 1}],\n",
       "       'driving_side': 'right',\n",
       "       'geometry': 'erbuBpod|Q@FDXl@|ETdBF`@~@xH\\\\fCJvA',\n",
       "       'mode': 'walking',\n",
       "       'duration': 359,\n",
       "       'maneuver': {'bearing_after': 257,\n",
       "        'type': 'new name',\n",
       "        'modifier': 'straight',\n",
       "        'bearing_before': 258,\n",
       "        'location': [-99.151454, 19.351548]},\n",
       "       'weight': 359,\n",
       "       'distance': 498.7,\n",
       "       'name': 'Avenida Miguel Hidalgo'},\n",
       "      {'intersections': [{'out': 3,\n",
       "         'location': [-99.156097, 19.350597],\n",
       "         'bearings': [75, 180, 255, 345],\n",
       "         'entry': [False, True, True, True],\n",
       "         'in': 0},\n",
       "        {'out': 2,\n",
       "         'location': [-99.156557, 19.351411],\n",
       "         'bearings': [150, 255, 330],\n",
       "         'entry': [False, True, True],\n",
       "         'in': 0},\n",
       "        {'out': 2,\n",
       "         'location': [-99.156921, 19.351989],\n",
       "         'bearings': [0, 165, 330],\n",
       "         'entry': [True, False, True],\n",
       "         'in': 1}],\n",
       "       'driving_side': 'right',\n",
       "       'geometry': 'glbuBrle|QUBi@Ri@Zw@f@}A~@UFw@Z',\n",
       "       'mode': 'walking',\n",
       "       'duration': 153.5,\n",
       "       'maneuver': {'bearing_after': 350,\n",
       "        'type': 'turn',\n",
       "        'modifier': 'right',\n",
       "        'bearing_before': 260,\n",
       "        'location': [-99.156097, 19.350597]},\n",
       "       'weight': 153.5,\n",
       "       'distance': 213.2,\n",
       "       'name': 'Calle San Pedro'},\n",
       "      {'intersections': [{'out': 2,\n",
       "         'location': [-99.157059, 19.35227],\n",
       "         'bearings': [75, 150, 255],\n",
       "         'entry': [True, False, True],\n",
       "         'in': 1}],\n",
       "       'driving_side': 'right',\n",
       "       'geometry': 'uvbuBrre|Q\\\\hC',\n",
       "       'mode': 'walking',\n",
       "       'duration': 53.5,\n",
       "       'maneuver': {'bearing_after': 255,\n",
       "        'type': 'continue',\n",
       "        'modifier': 'left',\n",
       "        'bearing_before': 334,\n",
       "        'location': [-99.157059, 19.35227]},\n",
       "       'weight': 53.5,\n",
       "       'distance': 74.3,\n",
       "       'name': 'Calle Cuauhtémoc'},\n",
       "      {'intersections': [{'out': 3,\n",
       "         'location': [-99.157749, 19.352122],\n",
       "         'bearings': [75, 165, 255, 345],\n",
       "         'entry': [False, True, True, True],\n",
       "         'in': 0}],\n",
       "       'driving_side': 'right',\n",
       "       'geometry': 'wubuB|ve|QmDf@',\n",
       "       'mode': 'walking',\n",
       "       'duration': 71.1,\n",
       "       'maneuver': {'bearing_after': 347,\n",
       "        'type': 'turn',\n",
       "        'modifier': 'right',\n",
       "        'bearing_before': 255,\n",
       "        'location': [-99.157749, 19.352122]},\n",
       "       'weight': 71.1,\n",
       "       'distance': 98.7,\n",
       "       'name': 'Calle Morelos'},\n",
       "      {'intersections': [{'out': 2,\n",
       "         'location': [-99.157945, 19.35299],\n",
       "         'bearings': [75, 165, 255, 345],\n",
       "         'entry': [True, False, True, True],\n",
       "         'in': 1},\n",
       "        {'out': 2,\n",
       "         'location': [-99.159279, 19.352747],\n",
       "         'bearings': [75, 165, 255, 345],\n",
       "         'entry': [False, True, True, True],\n",
       "         'in': 0},\n",
       "        {'out': 2,\n",
       "         'location': [-99.160586, 19.352482],\n",
       "         'bearings': [75, 165, 255, 345],\n",
       "         'entry': [False, True, True, True],\n",
       "         'in': 0},\n",
       "        {'out': 2,\n",
       "         'location': [-99.161927, 19.352206],\n",
       "         'bearings': [75, 165, 255, 345],\n",
       "         'entry': [False, True, True, True],\n",
       "         'in': 0}],\n",
       "       'driving_side': 'right',\n",
       "       'geometry': 'e{buBdxe|Qn@hGt@dGt@jGZfC',\n",
       "       'mode': 'walking',\n",
       "       'duration': 359.8,\n",
       "       'maneuver': {'bearing_after': 258,\n",
       "        'type': 'turn',\n",
       "        'modifier': 'left',\n",
       "        'bearing_before': 347,\n",
       "        'location': [-99.157945, 19.35299]},\n",
       "       'weight': 359.8,\n",
       "       'distance': 499.7,\n",
       "       'name': 'Calle Malintzin'},\n",
       "      {'intersections': [{'in': 0,\n",
       "         'entry': [True],\n",
       "         'bearings': [78],\n",
       "         'location': [-99.162606, 19.352073]}],\n",
       "       'driving_side': 'right',\n",
       "       'geometry': 'mubuBhuf|Q',\n",
       "       'mode': 'walking',\n",
       "       'duration': 0,\n",
       "       'maneuver': {'bearing_after': 0,\n",
       "        'location': [-99.162606, 19.352073],\n",
       "        'bearing_before': 258,\n",
       "        'type': 'arrive'},\n",
       "       'weight': 0,\n",
       "       'distance': 0,\n",
       "       'name': 'Calle Malintzin'}],\n",
       "     'distance': 2755.4,\n",
       "     'duration': 1988.2,\n",
       "     'summary': 'Calle Héroes del 47, Calle Malintzin',\n",
       "     'weight': 1988.2}],\n",
       "   'distance': 2755.4,\n",
       "   'duration': 1988.2,\n",
       "   'weight_name': 'duration',\n",
       "   'weight': 1988.2}],\n",
       " 'waypoints': [{'hint': 'nsbCgH_HwoCUAgAAVQAAAAAAAAAAAAAAn8m2QmV4OkEAAAAAAAAAAJQCAABVAAAAAAAAAAAAAAABAAAASC0X-pFHJwGfLRf6gEcnAQAA_wutR8BM',\n",
       "   'distance': 9.331526,\n",
       "   'name': 'Calle Tenis',\n",
       "   'location': [-99.144376, 19.351441]},\n",
       "  {'hint': 'Av0VgI79FYCnAAAADAIAAAAAAAAAAAAARiG6QQiskUIAAAAAAAAAAKcAAAAMAgAAAAAAAAAAAAABAAAAEuYW-glKJwEK5hb6MEonAQAA7wStR8BM',\n",
       "   'distance': 4.397995,\n",
       "   'name': 'Calle Malintzin',\n",
       "   'location': [-99.162606, 19.352073]}]}"
      ]
     },
     "execution_count": 1,
     "metadata": {},
     "output_type": "execute_result"
    }
   ],
   "source": [
    "import requests\n",
    "r = requests.get('http://datalab:5000/route/v1/driving/-99.14428918256026,19.351424122115958;-99.16261403345554,19.35211246418011?steps=true')\n",
    "r.json()"
   ]
  },
  {
   "cell_type": "markdown",
   "id": "480106c5-39f7-4569-9b35-89ec15ba925a",
   "metadata": {},
   "source": [
    "Como ven, es muy fácil de usar, desde luego la salida es un poco complicada, pero en el fondo es sólo un json, entonces es sencillo de parsear y utilizar como mejor nos convenga. \n"
   ]
  },
  {
   "cell_type": "markdown",
   "id": "62459e61-154f-4127-aec3-85ade0262cd0",
   "metadata": {
    "tags": []
   },
   "source": [
    "## Ejemplo de matriz\n",
    "\n",
    "Como nuestro problema básico ahorita no es obtener rutas sino calcular matrices origen destino, nos vamos a concentrar en ello en lugar de dar un paseo completo por el API de OSRM.\n",
    "\n",
    "El único servicio que vamos a necesitar el [table-service](http://project-osrm.org/docs/v5.24.0/api/#table-service) que toma dos listas de coordenadas y nos regresa las distancias (sobre la red) y costos entre todos los pares de coordenadas. Justo lo que queremos.\n",
    "\n",
    "Para empezar a trabajar con nuestros datos, leamos los datos de centroides de áreas verdes y agebs."
   ]
  },
  {
   "cell_type": "code",
   "execution_count": 2,
   "id": "06938376-02a7-4691-9d9a-2db53d48e4e3",
   "metadata": {},
   "outputs": [],
   "source": [
    "import pandas as pd\n",
    "agebs_zmvm_centroides = pd.read_pickle(\"datos/agebs_zmvm_centroides.pkl\")\n",
    "areas_verdes_centroides = pd.read_pickle(\"datos/areas_verdes_centroides.pkl\")"
   ]
  },
  {
   "cell_type": "markdown",
   "id": "e24de5aa-8651-491e-bc85-877b5ea4912d",
   "metadata": {},
   "source": [
    "Tomemos sólo los primeros registros de cada una, ahorita sólo queremos entender la estructura que nos regresa el API y cómo crear la matriz que queremos"
   ]
  },
  {
   "cell_type": "code",
   "execution_count": 3,
   "id": "6f4a0d8c-d680-4bd9-ad49-6ccfaa7eeb6f",
   "metadata": {},
   "outputs": [],
   "source": [
    "# Tomamos los primeros 5 registros de cada dataframe\n",
    "origenes = agebs_zmvm_centroides.head()\n",
    "destinos = areas_verdes_centroides.head()"
   ]
  },
  {
   "cell_type": "markdown",
   "id": "ff6cbeed-86fc-432e-a676-898637d7f148",
   "metadata": {},
   "source": [
    "Ahora tenemos que manufacturar el string de la petición al API. Viendo la documentación, el servicio nos regresa la distancia (o el costo) entre todos los pares de coordenadas, o bien, podemos identificar un par de coordenadas como el origen y entonces nos regrasa la distancia desde ese punto a todos los demás. Por la estructura de nuestros datos, lo más fácil es tomar el primer punto de origen y calcular las distancias a todos los demás y después iterar sobre los origenes.\n",
    "\n",
    "\n",
    "Una petición del tipo que queremos se ve así:\n",
    "\n",
    "````bash\n",
    "curl 'http://router.project-osrm.org/table/v1/driving/13.388860,52.517037;13.397634,52.529407;13.428555,52.523219?sources=0'\n",
    "````\n",
    "\n",
    "El primer par de coordenadas es el origen y el resto son los destinos. \n"
   ]
  },
  {
   "cell_type": "markdown",
   "id": "19bf3efd-e64d-463f-8e2e-4c467122244f",
   "metadata": {},
   "source": [
    "### Strings de las peticiones\n",
    "\n",
    "Ahora necesitamos transformar nuestros datos en los strings que necesitamos para hacer las peticiones al API. El primer paso es hacer una lista con las coordenadas de los destinos"
   ]
  },
  {
   "cell_type": "code",
   "execution_count": 4,
   "id": "d22f8d76-b69b-4d5c-9a02-1c35bf18ee9f",
   "metadata": {},
   "outputs": [
    {
     "data": {
      "text/plain": [
       "[(19.629064345383593, -98.91512568994419),\n",
       " (19.660166196043452, -98.90433315071964),\n",
       " (19.625788572945044, -98.88990441181032),\n",
       " (19.625562387164596, -98.88858293729425),\n",
       " (19.628150142795214, -98.89124996016245)]"
      ]
     },
     "execution_count": 4,
     "metadata": {},
     "output_type": "execute_result"
    }
   ],
   "source": [
    "# Hacemos una lista de las latitudes y longitudes\n",
    "ys = destinos.geometry.to_crs(4326).y.to_list()\n",
    "xs = destinos.geometry.to_crs(4326).x.to_list()\n",
    "# zipeamos la lista\n",
    "pares = list(zip(ys,xs))\n",
    "pares"
   ]
  },
  {
   "cell_type": "markdown",
   "id": "f4b0ff58-498d-4148-a69f-3f7134d4a913",
   "metadata": {},
   "source": [
    "Transformamos la lista en el string que necesitamos"
   ]
  },
  {
   "cell_type": "code",
   "execution_count": 5,
   "id": "b6352511-941d-440f-8243-a5209240708f",
   "metadata": {},
   "outputs": [
    {
     "data": {
      "text/plain": [
       "'-98.91512568994419,19.629064345383593;-98.90433315071964,19.660166196043452;-98.88990441181032,19.625788572945044;-98.88858293729425,19.625562387164596;-98.89124996016245,19.628150142795214'"
      ]
     },
     "execution_count": 5,
     "metadata": {},
     "output_type": "execute_result"
    }
   ],
   "source": [
    "s = []\n",
    "for p in pares:\n",
    "    a = str(p[1]) + \",\" + str(p[0])\n",
    "    s.append(a)\n",
    "destinos_str = \";\".join(s)\n",
    "destinos_str"
   ]
  },
  {
   "cell_type": "markdown",
   "id": "baab781d-67d7-45be-984c-c25a7ff0a415",
   "metadata": {},
   "source": [
    "Hacemos el string del origen"
   ]
  },
  {
   "cell_type": "code",
   "execution_count": 6,
   "id": "ad970c93-e8d7-45ff-b4d1-e754ff9c36fd",
   "metadata": {},
   "outputs": [
    {
     "data": {
      "text/plain": [
       "'-99.26028762490587,19.32199032738617'"
      ]
     },
     "execution_count": 6,
     "metadata": {},
     "output_type": "execute_result"
    }
   ],
   "source": [
    "origen_str = str(origenes.to_crs(4326).iloc[0].geometry.x) + ',' + str(origenes.to_crs(4326).iloc[0].geometry.y)\n",
    "origen_str"
   ]
  },
  {
   "cell_type": "markdown",
   "id": "e37fc070-d71e-40ac-80cd-411134ff37d4",
   "metadata": {},
   "source": [
    "Hacemos el string completo del request al API"
   ]
  },
  {
   "cell_type": "code",
   "execution_count": 7,
   "id": "b3e7d7cd-499b-4c8a-99c5-3a432c153b23",
   "metadata": {},
   "outputs": [
    {
     "data": {
      "text/plain": [
       "'http://datalab:5000/table/v1/driving/-99.26028762490587,19.32199032738617;-98.91512568994419,19.629064345383593;-98.90433315071964,19.660166196043452;-98.88990441181032,19.625788572945044;-98.88858293729425,19.625562387164596;-98.89124996016245,19.628150142795214?sources=0'"
      ]
     },
     "execution_count": 7,
     "metadata": {},
     "output_type": "execute_result"
    }
   ],
   "source": [
    "base_url = 'http://datalab:5000/table/v1/driving/'\n",
    "full_request = base_url + origen_str + ';' + destinos_str + '?sources=0'\n",
    "full_request"
   ]
  },
  {
   "cell_type": "markdown",
   "id": "c38fd169-45a9-4790-9d73-73cf41ee3007",
   "metadata": {},
   "source": [
    "### Petición\n",
    "Ahora podemos hacer la petición"
   ]
  },
  {
   "cell_type": "code",
   "execution_count": 8,
   "id": "1de9b952-2a27-45da-94c8-df11d7273029",
   "metadata": {},
   "outputs": [
    {
     "data": {
      "text/plain": [
       "{'code': 'Ok',\n",
       " 'durations': [[0, 47966, 50259.6, 47036.7, 47065.8, 46993.3]],\n",
       " 'destinations': [{'hint': 'VNG0gL7RtIBaAAAASAAAAAAAAAAAAAAAorFJQWKOHkEAAAAAAAAAAFoAAABIAAAAAAAAAAAAAAABAAAAamgV-mrUJgGAaBX6htQmAQAALxOtR8BM',\n",
       "   'distance': 3.86663,\n",
       "   'name': 'Calle Orquídea',\n",
       "   'location': [-99.26031, 19.321962]},\n",
       "  {'hint': 'WvuzgCj8s4AAAAAAHQAAAMoAAABzAAAAAAAAAHHGgED0ieBBVDGAQQAAAAAdAAAAygAAAHMAAAABAAAA964a-saKKwHKrBr6CIQrAQcAHwatR8BM',\n",
       "   'distance': 199.791636,\n",
       "   'name': 'Calzada de Los Agustinos',\n",
       "   'location': [-98.914569, 19.63079]},\n",
       "  {'hint': 'XfazgF_2s4DJAAAALwEAAF4AAACXAAAAgX_eQcd-J0IsqVFBD8OnQckAAAAvAQAAXgAAAJcAAAABAAAAPNca-m_9KwHz1hr6hv0rAQEAbwytR8BM',\n",
       "   'distance': 8.067194,\n",
       "   'name': 'Calle Río San Juan',\n",
       "   'location': [-98.90426, 19.660143]},\n",
       "  {'hint': 'tbKzgMCys4AdAAAAmQAAACECAAAAAAAAz1uBQP00qUFMCpdCAAAAAB0AAACZAAAAIQIAAAAAAAABAAAAog8b-iZ3KwFQDxv6PXcrAQUADwGtR8BM',\n",
       "   'distance': 8.970216,\n",
       "   'name': 'Calle Sor Juana Inés De La Cruz',\n",
       "   'location': [-98.889822, 19.625766]},\n",
       "  {'hint': 'prKzgPKys4B_AAAAYAEAAFsBAACBAAAAzj-NQRaPQ0Kk30BCq1uPQX8AAABgAQAAWwEAAIEAAAABAAAAdRQb-k92KwF5FBv6WnYrAQEALxKtR8BM',\n",
       "   'distance': 1.287896,\n",
       "   'name': 'Calle Francisco Villa',\n",
       "   'location': [-98.888587, 19.625551]},\n",
       "  {'hint': 'NhEUgKrdAoB9AAAAzAAAAPMAAAB0BQAA0haKQV504UFkdAZCMAZCQ30AAADMAAAA8wAAAHQFAAABAAAAwgkb-m6AKwEOChv6doArAQIAHxatR8BM',\n",
       "   'distance': 8.020997,\n",
       "   'name': 'Calle Fresno',\n",
       "   'location': [-98.891326, 19.628142]}],\n",
       " 'sources': [{'hint': 'VNG0gL7RtIBaAAAASAAAAAAAAAAAAAAAorFJQWKOHkEAAAAAAAAAAFoAAABIAAAAAAAAAAAAAAABAAAAamgV-mrUJgGAaBX6htQmAQAALxOtR8BM',\n",
       "   'distance': 3.86663,\n",
       "   'name': 'Calle Orquídea',\n",
       "   'location': [-99.26031, 19.321962]}]}"
      ]
     },
     "execution_count": 8,
     "metadata": {},
     "output_type": "execute_result"
    }
   ],
   "source": [
    "r = requests.get(full_request)\n",
    "r.json()"
   ]
  },
  {
   "cell_type": "markdown",
   "id": "04481435-e67c-4584-b535-712f6644b65c",
   "metadata": {},
   "source": [
    "De acuerdo a la documentación de OSRM, lo que nos regresa el API es un json que en la entrada `durations` tiene las duraciones de los viajes a cada uno de los destinos conservando el índice en el que los mandamos, las demás entradas contienen información adicional que en este caso no vamos a utilizar. Entonces, lo que necesitamos hacer es simplemete extraer la lista de durations"
   ]
  },
  {
   "cell_type": "code",
   "execution_count": 9,
   "id": "154a70fe-b3c2-4e7e-b317-d1de9bd87f31",
   "metadata": {},
   "outputs": [
    {
     "data": {
      "text/plain": [
       "[0, 47966, 50259.6, 47036.7, 47065.8, 46993.3]"
      ]
     },
     "execution_count": 9,
     "metadata": {},
     "output_type": "execute_result"
    }
   ],
   "source": [
    "r.json()['durations'][0]"
   ]
  },
  {
   "cell_type": "markdown",
   "id": "2a88def4-3c5c-4a89-8385-5342f6693031",
   "metadata": {},
   "source": [
    "El primer elemento de la lista no lo queremos, es la duración entre el origen y el origen mismo, los demás son los buenos. Ahora necesitamos estructurar los datos de forma que podamos obtener el dataframe de costos como lo necesitamos para `access`. Fíjense que tenemos el id del origen en `origenes.iloc[0].CVEGEO` y los ids de los destinos en el dataframe correspondiente, entonces es relativamente fácil hacur un nuevo dataframe con origen, destino y costo"
   ]
  },
  {
   "cell_type": "code",
   "execution_count": 10,
   "id": "7c0c8b4c-3193-4ca2-9988-e91963c92ca9",
   "metadata": {},
   "outputs": [
    {
     "data": {
      "text/html": [
       "<div>\n",
       "<style scoped>\n",
       "    .dataframe tbody tr th:only-of-type {\n",
       "        vertical-align: middle;\n",
       "    }\n",
       "\n",
       "    .dataframe tbody tr th {\n",
       "        vertical-align: top;\n",
       "    }\n",
       "\n",
       "    .dataframe thead th {\n",
       "        text-align: right;\n",
       "    }\n",
       "</style>\n",
       "<table border=\"1\" class=\"dataframe\">\n",
       "  <thead>\n",
       "    <tr style=\"text-align: right;\">\n",
       "      <th></th>\n",
       "      <th>destino</th>\n",
       "      <th>costo</th>\n",
       "      <th>origen</th>\n",
       "    </tr>\n",
       "  </thead>\n",
       "  <tbody>\n",
       "    <tr>\n",
       "      <th>0</th>\n",
       "      <td>7596</td>\n",
       "      <td>47966.0</td>\n",
       "      <td>0901000011716</td>\n",
       "    </tr>\n",
       "    <tr>\n",
       "      <th>1</th>\n",
       "      <td>7597</td>\n",
       "      <td>50259.6</td>\n",
       "      <td>0901000011716</td>\n",
       "    </tr>\n",
       "    <tr>\n",
       "      <th>2</th>\n",
       "      <td>7598</td>\n",
       "      <td>47036.7</td>\n",
       "      <td>0901000011716</td>\n",
       "    </tr>\n",
       "    <tr>\n",
       "      <th>3</th>\n",
       "      <td>7599</td>\n",
       "      <td>47065.8</td>\n",
       "      <td>0901000011716</td>\n",
       "    </tr>\n",
       "    <tr>\n",
       "      <th>4</th>\n",
       "      <td>7600</td>\n",
       "      <td>46993.3</td>\n",
       "      <td>0901000011716</td>\n",
       "    </tr>\n",
       "  </tbody>\n",
       "</table>\n",
       "</div>"
      ],
      "text/plain": [
       "   destino    costo         origen\n",
       "0     7596  47966.0  0901000011716\n",
       "1     7597  50259.6  0901000011716\n",
       "2     7598  47036.7  0901000011716\n",
       "3     7599  47065.8  0901000011716\n",
       "4     7600  46993.3  0901000011716"
      ]
     },
     "execution_count": 10,
     "metadata": {},
     "output_type": "execute_result"
    }
   ],
   "source": [
    "costos = destinos.copy()[['id_parque']].rename({'id_parque':'destino'}, axis=1)\n",
    "costos['costo'] = r.json()['durations'][0][1:]\n",
    "costos['origen'] = origenes.iloc[0].CVEGEO\n",
    "costos"
   ]
  },
  {
   "cell_type": "markdown",
   "id": "c48a9aac-7f67-4660-806c-65579d3160b9",
   "metadata": {},
   "source": [
    "## Todo en una función\n",
    "Perfecto, tenemos el pedazo de la matriz que corresponde al primer origen, ahora ya sólo necesitamos iterar sobre todos los orígenes y concatenar el resultado en un sólo dataframe.\n",
    "\n",
    "Para hacer todo más fácil, lo que más nos conviene es empaquetar todo el flujo que hemos hecho en una sóla función"
   ]
  },
  {
   "cell_type": "code",
   "execution_count": 22,
   "id": "cdf0d1f5-13c6-4b0d-a013-27f3b634cb83",
   "metadata": {},
   "outputs": [],
   "source": [
    "def get_od_matrix(origenes, destinos):\n",
    "    base_url = 'http://datalab:5000/table/v1/driving/'\n",
    "    # primero hacemos todo el string de los destinos\n",
    "    ys = destinos.geometry.to_crs(4326).y.to_list()\n",
    "    xs = destinos.geometry.to_crs(4326).x.to_list()\n",
    "    pares = zip(ys,xs)\n",
    "    s = []\n",
    "    for p in pares:\n",
    "        a = str(p[1]) + \",\" + str(p[0])\n",
    "        s.append(a)\n",
    "    destinos_str = \";\".join(s)\n",
    "    #para cada origen hacemos la patición y guardamos el resultado\n",
    "    origenes = origenes.to_crs(4326)\n",
    "    costos = [] # acá vamos a ir guardando los resultados para cada origen\n",
    "    for _, row in origenes.iterrows():\n",
    "        origen_str = str(row.geometry.x) + ',' + str(row.geometry.y)\n",
    "        req = base_url + origen_str + ';' + destinos_str + '?sources=0'\n",
    "        r = requests.get(req)\n",
    "        resultado = r.json()\n",
    "        if resultado['code'] == 'Ok':\n",
    "            c = destinos.copy()[['id_parque']].rename({'id_parque':'destino'}, axis=1)\n",
    "            c['costo'] = resultado['durations'][0][1:]\n",
    "            c['origen'] = row.CVEGEO\n",
    "            costos.append(c)\n",
    "        else:\n",
    "            print(f\"something went wrong with origin {row.CVEGEO}\")\n",
    "    costos = pd.concat(costos).reset_index().drop(columns=['index'])\n",
    "    return costos\n",
    "        \n",
    "    "
   ]
  },
  {
   "cell_type": "markdown",
   "id": "2b757640-71c8-4916-81e5-4317c728258a",
   "metadata": {},
   "source": [
    "Probamos nuestra función con los datos chiquitos"
   ]
  },
  {
   "cell_type": "code",
   "execution_count": 23,
   "id": "037812fc-d024-4bf5-a0dd-e000d0511ee3",
   "metadata": {},
   "outputs": [
    {
     "data": {
      "text/html": [
       "<div>\n",
       "<style scoped>\n",
       "    .dataframe tbody tr th:only-of-type {\n",
       "        vertical-align: middle;\n",
       "    }\n",
       "\n",
       "    .dataframe tbody tr th {\n",
       "        vertical-align: top;\n",
       "    }\n",
       "\n",
       "    .dataframe thead th {\n",
       "        text-align: right;\n",
       "    }\n",
       "</style>\n",
       "<table border=\"1\" class=\"dataframe\">\n",
       "  <thead>\n",
       "    <tr style=\"text-align: right;\">\n",
       "      <th></th>\n",
       "      <th>destino</th>\n",
       "      <th>costo</th>\n",
       "      <th>origen</th>\n",
       "    </tr>\n",
       "  </thead>\n",
       "  <tbody>\n",
       "    <tr>\n",
       "      <th>0</th>\n",
       "      <td>7596</td>\n",
       "      <td>47966.0</td>\n",
       "      <td>0901000011716</td>\n",
       "    </tr>\n",
       "    <tr>\n",
       "      <th>1</th>\n",
       "      <td>7597</td>\n",
       "      <td>50259.6</td>\n",
       "      <td>0901000011716</td>\n",
       "    </tr>\n",
       "    <tr>\n",
       "      <th>2</th>\n",
       "      <td>7598</td>\n",
       "      <td>47036.7</td>\n",
       "      <td>0901000011716</td>\n",
       "    </tr>\n",
       "    <tr>\n",
       "      <th>3</th>\n",
       "      <td>7599</td>\n",
       "      <td>47065.8</td>\n",
       "      <td>0901000011716</td>\n",
       "    </tr>\n",
       "    <tr>\n",
       "      <th>4</th>\n",
       "      <td>7600</td>\n",
       "      <td>46993.3</td>\n",
       "      <td>0901000011716</td>\n",
       "    </tr>\n",
       "    <tr>\n",
       "      <th>...</th>\n",
       "      <td>...</td>\n",
       "      <td>...</td>\n",
       "      <td>...</td>\n",
       "    </tr>\n",
       "    <tr>\n",
       "      <th>395</th>\n",
       "      <td>7611</td>\n",
       "      <td>41061.0</td>\n",
       "      <td>0901000011063</td>\n",
       "    </tr>\n",
       "    <tr>\n",
       "      <th>396</th>\n",
       "      <td>7612</td>\n",
       "      <td>40997.3</td>\n",
       "      <td>0901000011063</td>\n",
       "    </tr>\n",
       "    <tr>\n",
       "      <th>397</th>\n",
       "      <td>7613</td>\n",
       "      <td>42432.9</td>\n",
       "      <td>0901000011063</td>\n",
       "    </tr>\n",
       "    <tr>\n",
       "      <th>398</th>\n",
       "      <td>7614</td>\n",
       "      <td>42787.9</td>\n",
       "      <td>0901000011063</td>\n",
       "    </tr>\n",
       "    <tr>\n",
       "      <th>399</th>\n",
       "      <td>7615</td>\n",
       "      <td>41106.0</td>\n",
       "      <td>0901000011063</td>\n",
       "    </tr>\n",
       "  </tbody>\n",
       "</table>\n",
       "<p>400 rows × 3 columns</p>\n",
       "</div>"
      ],
      "text/plain": [
       "     destino    costo         origen\n",
       "0       7596  47966.0  0901000011716\n",
       "1       7597  50259.6  0901000011716\n",
       "2       7598  47036.7  0901000011716\n",
       "3       7599  47065.8  0901000011716\n",
       "4       7600  46993.3  0901000011716\n",
       "..       ...      ...            ...\n",
       "395     7611  41061.0  0901000011063\n",
       "396     7612  40997.3  0901000011063\n",
       "397     7613  42432.9  0901000011063\n",
       "398     7614  42787.9  0901000011063\n",
       "399     7615  41106.0  0901000011063\n",
       "\n",
       "[400 rows x 3 columns]"
      ]
     },
     "execution_count": 23,
     "metadata": {},
     "output_type": "execute_result"
    }
   ],
   "source": [
    "costos = get_od_matrix(origenes,destinos)\n",
    "costos"
   ]
  },
  {
   "cell_type": "markdown",
   "id": "2dbece52-6d79-4ccc-a562-c2efc8c370d8",
   "metadata": {},
   "source": [
    "Ya con nuestra función, podemos ahora sí hacer la matriz completa, sólo que eso evidentemente va a tardar mucho. Una forma de ganarle tiempo es correr el loop de la función en paralelo"
   ]
  },
  {
   "cell_type": "code",
   "execution_count": 33,
   "id": "b41d92c7-91fe-49f7-8903-f3b0103c07b2",
   "metadata": {},
   "outputs": [],
   "source": [
    "from joblib import Parallel, delayed\n",
    "def parallel_get_od_matrix(origenes, destinos, njobs=2):\n",
    "    def process_row(_, row):\n",
    "            origen_str = str(row.geometry.x) + ',' + str(row.geometry.y)\n",
    "            req = base_url + origen_str + ';' + destinos_str + '?sources=0'\n",
    "            r = requests.get(req)\n",
    "            resultado = r.json()\n",
    "            if resultado['code'] == 'Ok':\n",
    "                c = destinos.copy()[['id_parque']].rename({'id_parque':'destino'}, axis=1)\n",
    "                c['costo'] = resultado['durations'][0][1:]\n",
    "                c['origen'] = row.CVEGEO\n",
    "            else:\n",
    "                print(f\"something went wrong with origin {row.CVEGEO}\")\n",
    "            return c\n",
    "    base_url = 'http://datalab:5000/table/v1/driving/'\n",
    "    # primero hacemos todo el string de los destinos\n",
    "    ys = destinos.geometry.to_crs(4326).y.to_list()\n",
    "    xs = destinos.geometry.to_crs(4326).x.to_list()\n",
    "    pares = zip(ys,xs)\n",
    "    s = []\n",
    "    for p in pares:\n",
    "        a = str(p[1]) + \",\" + str(p[0])\n",
    "        s.append(a)\n",
    "    destinos_str = \";\".join(s)\n",
    "    #para cada origen hacemos la patición y guardamos el resultado\n",
    "    origenes = origenes.to_crs(4326)\n",
    "    costos = [] # acá vamos a ir guardando los resultados para cada origen\n",
    "    costos = Parallel(n_jobs=njobs)(delayed(process_row)(_,row) for _, row in origenes.iterrows())\n",
    "    costos = pd.concat(costos).reset_index().drop(columns=['index'])\n",
    "    return costos"
   ]
  },
  {
   "cell_type": "markdown",
   "id": "9a4544ce-a767-470b-af4a-11485a3fc86a",
   "metadata": {},
   "source": [
    "Probamos nuestra nueva función y comparamos los tiempos de ejecución (noten que estamos usando sólo dos trabajos simultaneamente)"
   ]
  },
  {
   "cell_type": "code",
   "execution_count": 34,
   "id": "2a8a48bb-05f7-4c97-9d1e-37d4372c9902",
   "metadata": {},
   "outputs": [
    {
     "name": "stdout",
     "output_type": "stream",
     "text": [
      "2.07 s ± 92.7 ms per loop (mean ± std. dev. of 7 runs, 1 loop each)\n"
     ]
    }
   ],
   "source": [
    "%%timeit\n",
    "costos = parallel_get_od_matrix(origenes,destinos)\n",
    "costos"
   ]
  },
  {
   "cell_type": "code",
   "execution_count": 29,
   "id": "6235dd27-7eef-40a8-9c3e-6582e67109ae",
   "metadata": {},
   "outputs": [
    {
     "name": "stdout",
     "output_type": "stream",
     "text": [
      "2.99 s ± 308 ms per loop (mean ± std. dev. of 7 runs, 1 loop each)\n"
     ]
    }
   ],
   "source": [
    "%%timeit\n",
    "costos = get_od_matrix(origenes,destinos)\n",
    "costos"
   ]
  },
  {
   "cell_type": "markdown",
   "id": "1c5466a9-f231-4895-ae3d-37f75deb3b14",
   "metadata": {},
   "source": [
    "Ganamos un 30%!!!!\n",
    "\n",
    "Con esta función podemos ya correr el algoritmo para la base de datos completa. Se va a tardar muchísimo, no lo intenten en casa!!!! \n",
    "\n",
    "**NOTA:** Pueden jugar un poco con el valor de njobs, pero recuerden que debe ser menor al número de hilos de su procesador"
   ]
  },
  {
   "cell_type": "markdown",
   "id": "a72abd20-eff0-4fe0-8d24-a4aeb75ea4b6",
   "metadata": {},
   "source": [
    "## Matriz completa\n",
    "\n",
    "Pues ahora ya estamos listos para hacer la matriz inmensa"
   ]
  },
  {
   "cell_type": "code",
   "execution_count": 20,
   "id": "a77500fc-f7dc-4cfc-b6ac-9e2019a0d89f",
   "metadata": {},
   "outputs": [
    {
     "ename": "KeyboardInterrupt",
     "evalue": "",
     "output_type": "error",
     "traceback": [
      "\u001b[0;31m---------------------------------------------------------------------------\u001b[0m",
      "\u001b[0;31mKeyboardInterrupt\u001b[0m                         Traceback (most recent call last)",
      "\u001b[0;32m/tmp/ipykernel_30981/4120831543.py\u001b[0m in \u001b[0;36m<module>\u001b[0;34m\u001b[0m\n\u001b[0;32m----> 1\u001b[0;31m \u001b[0mmatriz_completa\u001b[0m \u001b[0;34m=\u001b[0m \u001b[0mget_od_matrix\u001b[0m\u001b[0;34m(\u001b[0m\u001b[0magebs_zmvm_centroides\u001b[0m\u001b[0;34m,\u001b[0m \u001b[0mareas_verdes_centroides\u001b[0m\u001b[0;34m)\u001b[0m\u001b[0;34m\u001b[0m\u001b[0;34m\u001b[0m\u001b[0m\n\u001b[0m\u001b[1;32m      2\u001b[0m \u001b[0mmatriz_completa\u001b[0m\u001b[0;34m.\u001b[0m\u001b[0mhead\u001b[0m\u001b[0;34m(\u001b[0m\u001b[0;36m20\u001b[0m\u001b[0;34m)\u001b[0m\u001b[0;34m\u001b[0m\u001b[0;34m\u001b[0m\u001b[0m\n",
      "\u001b[0;32m/tmp/ipykernel_30981/2863186103.py\u001b[0m in \u001b[0;36mget_od_matrix\u001b[0;34m(origenes, destinos)\u001b[0m\n\u001b[1;32m     16\u001b[0m         \u001b[0morigen_str\u001b[0m \u001b[0;34m=\u001b[0m \u001b[0mstr\u001b[0m\u001b[0;34m(\u001b[0m\u001b[0mrow\u001b[0m\u001b[0;34m.\u001b[0m\u001b[0mgeometry\u001b[0m\u001b[0;34m.\u001b[0m\u001b[0mx\u001b[0m\u001b[0;34m)\u001b[0m \u001b[0;34m+\u001b[0m \u001b[0;34m','\u001b[0m \u001b[0;34m+\u001b[0m \u001b[0mstr\u001b[0m\u001b[0;34m(\u001b[0m\u001b[0mrow\u001b[0m\u001b[0;34m.\u001b[0m\u001b[0mgeometry\u001b[0m\u001b[0;34m.\u001b[0m\u001b[0my\u001b[0m\u001b[0;34m)\u001b[0m\u001b[0;34m\u001b[0m\u001b[0;34m\u001b[0m\u001b[0m\n\u001b[1;32m     17\u001b[0m         \u001b[0mreq\u001b[0m \u001b[0;34m=\u001b[0m \u001b[0mbase_url\u001b[0m \u001b[0;34m+\u001b[0m \u001b[0morigen_str\u001b[0m \u001b[0;34m+\u001b[0m \u001b[0;34m';'\u001b[0m \u001b[0;34m+\u001b[0m \u001b[0mdestinos_str\u001b[0m \u001b[0;34m+\u001b[0m \u001b[0;34m'?sources=0'\u001b[0m\u001b[0;34m\u001b[0m\u001b[0;34m\u001b[0m\u001b[0m\n\u001b[0;32m---> 18\u001b[0;31m         \u001b[0mr\u001b[0m \u001b[0;34m=\u001b[0m \u001b[0mrequests\u001b[0m\u001b[0;34m.\u001b[0m\u001b[0mget\u001b[0m\u001b[0;34m(\u001b[0m\u001b[0mreq\u001b[0m\u001b[0;34m)\u001b[0m\u001b[0;34m\u001b[0m\u001b[0;34m\u001b[0m\u001b[0m\n\u001b[0m\u001b[1;32m     19\u001b[0m         \u001b[0mresultado\u001b[0m \u001b[0;34m=\u001b[0m \u001b[0mr\u001b[0m\u001b[0;34m.\u001b[0m\u001b[0mjson\u001b[0m\u001b[0;34m(\u001b[0m\u001b[0;34m)\u001b[0m\u001b[0;34m\u001b[0m\u001b[0;34m\u001b[0m\u001b[0m\n\u001b[1;32m     20\u001b[0m         \u001b[0;32mif\u001b[0m \u001b[0mresultado\u001b[0m\u001b[0;34m[\u001b[0m\u001b[0;34m'code'\u001b[0m\u001b[0;34m]\u001b[0m \u001b[0;34m==\u001b[0m \u001b[0;34m'Ok'\u001b[0m\u001b[0;34m:\u001b[0m\u001b[0;34m\u001b[0m\u001b[0;34m\u001b[0m\u001b[0m\n",
      "\u001b[0;32m~/miniconda3/envs/accesibilidad/lib/python3.9/site-packages/requests/api.py\u001b[0m in \u001b[0;36mget\u001b[0;34m(url, params, **kwargs)\u001b[0m\n\u001b[1;32m     73\u001b[0m     \"\"\"\n\u001b[1;32m     74\u001b[0m \u001b[0;34m\u001b[0m\u001b[0m\n\u001b[0;32m---> 75\u001b[0;31m     \u001b[0;32mreturn\u001b[0m \u001b[0mrequest\u001b[0m\u001b[0;34m(\u001b[0m\u001b[0;34m'get'\u001b[0m\u001b[0;34m,\u001b[0m \u001b[0murl\u001b[0m\u001b[0;34m,\u001b[0m \u001b[0mparams\u001b[0m\u001b[0;34m=\u001b[0m\u001b[0mparams\u001b[0m\u001b[0;34m,\u001b[0m \u001b[0;34m**\u001b[0m\u001b[0mkwargs\u001b[0m\u001b[0;34m)\u001b[0m\u001b[0;34m\u001b[0m\u001b[0;34m\u001b[0m\u001b[0m\n\u001b[0m\u001b[1;32m     76\u001b[0m \u001b[0;34m\u001b[0m\u001b[0m\n\u001b[1;32m     77\u001b[0m \u001b[0;34m\u001b[0m\u001b[0m\n",
      "\u001b[0;32m~/miniconda3/envs/accesibilidad/lib/python3.9/site-packages/requests/api.py\u001b[0m in \u001b[0;36mrequest\u001b[0;34m(method, url, **kwargs)\u001b[0m\n\u001b[1;32m     59\u001b[0m     \u001b[0;31m# cases, and look like a memory leak in others.\u001b[0m\u001b[0;34m\u001b[0m\u001b[0;34m\u001b[0m\u001b[0;34m\u001b[0m\u001b[0m\n\u001b[1;32m     60\u001b[0m     \u001b[0;32mwith\u001b[0m \u001b[0msessions\u001b[0m\u001b[0;34m.\u001b[0m\u001b[0mSession\u001b[0m\u001b[0;34m(\u001b[0m\u001b[0;34m)\u001b[0m \u001b[0;32mas\u001b[0m \u001b[0msession\u001b[0m\u001b[0;34m:\u001b[0m\u001b[0;34m\u001b[0m\u001b[0;34m\u001b[0m\u001b[0m\n\u001b[0;32m---> 61\u001b[0;31m         \u001b[0;32mreturn\u001b[0m \u001b[0msession\u001b[0m\u001b[0;34m.\u001b[0m\u001b[0mrequest\u001b[0m\u001b[0;34m(\u001b[0m\u001b[0mmethod\u001b[0m\u001b[0;34m=\u001b[0m\u001b[0mmethod\u001b[0m\u001b[0;34m,\u001b[0m \u001b[0murl\u001b[0m\u001b[0;34m=\u001b[0m\u001b[0murl\u001b[0m\u001b[0;34m,\u001b[0m \u001b[0;34m**\u001b[0m\u001b[0mkwargs\u001b[0m\u001b[0;34m)\u001b[0m\u001b[0;34m\u001b[0m\u001b[0;34m\u001b[0m\u001b[0m\n\u001b[0m\u001b[1;32m     62\u001b[0m \u001b[0;34m\u001b[0m\u001b[0m\n\u001b[1;32m     63\u001b[0m \u001b[0;34m\u001b[0m\u001b[0m\n",
      "\u001b[0;32m~/miniconda3/envs/accesibilidad/lib/python3.9/site-packages/requests/sessions.py\u001b[0m in \u001b[0;36mrequest\u001b[0;34m(self, method, url, params, data, headers, cookies, files, auth, timeout, allow_redirects, proxies, hooks, stream, verify, cert, json)\u001b[0m\n\u001b[1;32m    540\u001b[0m         }\n\u001b[1;32m    541\u001b[0m         \u001b[0msend_kwargs\u001b[0m\u001b[0;34m.\u001b[0m\u001b[0mupdate\u001b[0m\u001b[0;34m(\u001b[0m\u001b[0msettings\u001b[0m\u001b[0;34m)\u001b[0m\u001b[0;34m\u001b[0m\u001b[0;34m\u001b[0m\u001b[0m\n\u001b[0;32m--> 542\u001b[0;31m         \u001b[0mresp\u001b[0m \u001b[0;34m=\u001b[0m \u001b[0mself\u001b[0m\u001b[0;34m.\u001b[0m\u001b[0msend\u001b[0m\u001b[0;34m(\u001b[0m\u001b[0mprep\u001b[0m\u001b[0;34m,\u001b[0m \u001b[0;34m**\u001b[0m\u001b[0msend_kwargs\u001b[0m\u001b[0;34m)\u001b[0m\u001b[0;34m\u001b[0m\u001b[0;34m\u001b[0m\u001b[0m\n\u001b[0m\u001b[1;32m    543\u001b[0m \u001b[0;34m\u001b[0m\u001b[0m\n\u001b[1;32m    544\u001b[0m         \u001b[0;32mreturn\u001b[0m \u001b[0mresp\u001b[0m\u001b[0;34m\u001b[0m\u001b[0;34m\u001b[0m\u001b[0m\n",
      "\u001b[0;32m~/miniconda3/envs/accesibilidad/lib/python3.9/site-packages/requests/sessions.py\u001b[0m in \u001b[0;36msend\u001b[0;34m(self, request, **kwargs)\u001b[0m\n\u001b[1;32m    653\u001b[0m \u001b[0;34m\u001b[0m\u001b[0m\n\u001b[1;32m    654\u001b[0m         \u001b[0;31m# Send the request\u001b[0m\u001b[0;34m\u001b[0m\u001b[0;34m\u001b[0m\u001b[0;34m\u001b[0m\u001b[0m\n\u001b[0;32m--> 655\u001b[0;31m         \u001b[0mr\u001b[0m \u001b[0;34m=\u001b[0m \u001b[0madapter\u001b[0m\u001b[0;34m.\u001b[0m\u001b[0msend\u001b[0m\u001b[0;34m(\u001b[0m\u001b[0mrequest\u001b[0m\u001b[0;34m,\u001b[0m \u001b[0;34m**\u001b[0m\u001b[0mkwargs\u001b[0m\u001b[0;34m)\u001b[0m\u001b[0;34m\u001b[0m\u001b[0;34m\u001b[0m\u001b[0m\n\u001b[0m\u001b[1;32m    656\u001b[0m \u001b[0;34m\u001b[0m\u001b[0m\n\u001b[1;32m    657\u001b[0m         \u001b[0;31m# Total elapsed time of the request (approximately)\u001b[0m\u001b[0;34m\u001b[0m\u001b[0;34m\u001b[0m\u001b[0;34m\u001b[0m\u001b[0m\n",
      "\u001b[0;32m~/miniconda3/envs/accesibilidad/lib/python3.9/site-packages/requests/adapters.py\u001b[0m in \u001b[0;36msend\u001b[0;34m(self, request, stream, timeout, verify, cert, proxies)\u001b[0m\n\u001b[1;32m    437\u001b[0m         \u001b[0;32mtry\u001b[0m\u001b[0;34m:\u001b[0m\u001b[0;34m\u001b[0m\u001b[0;34m\u001b[0m\u001b[0m\n\u001b[1;32m    438\u001b[0m             \u001b[0;32mif\u001b[0m \u001b[0;32mnot\u001b[0m \u001b[0mchunked\u001b[0m\u001b[0;34m:\u001b[0m\u001b[0;34m\u001b[0m\u001b[0;34m\u001b[0m\u001b[0m\n\u001b[0;32m--> 439\u001b[0;31m                 resp = conn.urlopen(\n\u001b[0m\u001b[1;32m    440\u001b[0m                     \u001b[0mmethod\u001b[0m\u001b[0;34m=\u001b[0m\u001b[0mrequest\u001b[0m\u001b[0;34m.\u001b[0m\u001b[0mmethod\u001b[0m\u001b[0;34m,\u001b[0m\u001b[0;34m\u001b[0m\u001b[0;34m\u001b[0m\u001b[0m\n\u001b[1;32m    441\u001b[0m                     \u001b[0murl\u001b[0m\u001b[0;34m=\u001b[0m\u001b[0murl\u001b[0m\u001b[0;34m,\u001b[0m\u001b[0;34m\u001b[0m\u001b[0;34m\u001b[0m\u001b[0m\n",
      "\u001b[0;32m~/miniconda3/envs/accesibilidad/lib/python3.9/site-packages/urllib3/connectionpool.py\u001b[0m in \u001b[0;36murlopen\u001b[0;34m(self, method, url, body, headers, retries, redirect, assert_same_host, timeout, pool_timeout, release_conn, chunked, body_pos, **response_kw)\u001b[0m\n\u001b[1;32m    697\u001b[0m \u001b[0;34m\u001b[0m\u001b[0m\n\u001b[1;32m    698\u001b[0m             \u001b[0;31m# Make the request on the httplib connection object.\u001b[0m\u001b[0;34m\u001b[0m\u001b[0;34m\u001b[0m\u001b[0;34m\u001b[0m\u001b[0m\n\u001b[0;32m--> 699\u001b[0;31m             httplib_response = self._make_request(\n\u001b[0m\u001b[1;32m    700\u001b[0m                 \u001b[0mconn\u001b[0m\u001b[0;34m,\u001b[0m\u001b[0;34m\u001b[0m\u001b[0;34m\u001b[0m\u001b[0m\n\u001b[1;32m    701\u001b[0m                 \u001b[0mmethod\u001b[0m\u001b[0;34m,\u001b[0m\u001b[0;34m\u001b[0m\u001b[0;34m\u001b[0m\u001b[0m\n",
      "\u001b[0;32m~/miniconda3/envs/accesibilidad/lib/python3.9/site-packages/urllib3/connectionpool.py\u001b[0m in \u001b[0;36m_make_request\u001b[0;34m(self, conn, method, url, timeout, chunked, **httplib_request_kw)\u001b[0m\n\u001b[1;32m    443\u001b[0m                     \u001b[0;31m# Python 3 (including for exceptions like SystemExit).\u001b[0m\u001b[0;34m\u001b[0m\u001b[0;34m\u001b[0m\u001b[0;34m\u001b[0m\u001b[0m\n\u001b[1;32m    444\u001b[0m                     \u001b[0;31m# Otherwise it looks like a bug in the code.\u001b[0m\u001b[0;34m\u001b[0m\u001b[0;34m\u001b[0m\u001b[0;34m\u001b[0m\u001b[0m\n\u001b[0;32m--> 445\u001b[0;31m                     \u001b[0msix\u001b[0m\u001b[0;34m.\u001b[0m\u001b[0mraise_from\u001b[0m\u001b[0;34m(\u001b[0m\u001b[0me\u001b[0m\u001b[0;34m,\u001b[0m \u001b[0;32mNone\u001b[0m\u001b[0;34m)\u001b[0m\u001b[0;34m\u001b[0m\u001b[0;34m\u001b[0m\u001b[0m\n\u001b[0m\u001b[1;32m    446\u001b[0m         \u001b[0;32mexcept\u001b[0m \u001b[0;34m(\u001b[0m\u001b[0mSocketTimeout\u001b[0m\u001b[0;34m,\u001b[0m \u001b[0mBaseSSLError\u001b[0m\u001b[0;34m,\u001b[0m \u001b[0mSocketError\u001b[0m\u001b[0;34m)\u001b[0m \u001b[0;32mas\u001b[0m \u001b[0me\u001b[0m\u001b[0;34m:\u001b[0m\u001b[0;34m\u001b[0m\u001b[0;34m\u001b[0m\u001b[0m\n\u001b[1;32m    447\u001b[0m             \u001b[0mself\u001b[0m\u001b[0;34m.\u001b[0m\u001b[0m_raise_timeout\u001b[0m\u001b[0;34m(\u001b[0m\u001b[0merr\u001b[0m\u001b[0;34m=\u001b[0m\u001b[0me\u001b[0m\u001b[0;34m,\u001b[0m \u001b[0murl\u001b[0m\u001b[0;34m=\u001b[0m\u001b[0murl\u001b[0m\u001b[0;34m,\u001b[0m \u001b[0mtimeout_value\u001b[0m\u001b[0;34m=\u001b[0m\u001b[0mread_timeout\u001b[0m\u001b[0;34m)\u001b[0m\u001b[0;34m\u001b[0m\u001b[0;34m\u001b[0m\u001b[0m\n",
      "\u001b[0;32m~/miniconda3/envs/accesibilidad/lib/python3.9/site-packages/urllib3/packages/six.py\u001b[0m in \u001b[0;36mraise_from\u001b[0;34m(value, from_value)\u001b[0m\n",
      "\u001b[0;32m~/miniconda3/envs/accesibilidad/lib/python3.9/site-packages/urllib3/connectionpool.py\u001b[0m in \u001b[0;36m_make_request\u001b[0;34m(self, conn, method, url, timeout, chunked, **httplib_request_kw)\u001b[0m\n\u001b[1;32m    438\u001b[0m                 \u001b[0;31m# Python 3\u001b[0m\u001b[0;34m\u001b[0m\u001b[0;34m\u001b[0m\u001b[0;34m\u001b[0m\u001b[0m\n\u001b[1;32m    439\u001b[0m                 \u001b[0;32mtry\u001b[0m\u001b[0;34m:\u001b[0m\u001b[0;34m\u001b[0m\u001b[0;34m\u001b[0m\u001b[0m\n\u001b[0;32m--> 440\u001b[0;31m                     \u001b[0mhttplib_response\u001b[0m \u001b[0;34m=\u001b[0m \u001b[0mconn\u001b[0m\u001b[0;34m.\u001b[0m\u001b[0mgetresponse\u001b[0m\u001b[0;34m(\u001b[0m\u001b[0;34m)\u001b[0m\u001b[0;34m\u001b[0m\u001b[0;34m\u001b[0m\u001b[0m\n\u001b[0m\u001b[1;32m    441\u001b[0m                 \u001b[0;32mexcept\u001b[0m \u001b[0mBaseException\u001b[0m \u001b[0;32mas\u001b[0m \u001b[0me\u001b[0m\u001b[0;34m:\u001b[0m\u001b[0;34m\u001b[0m\u001b[0;34m\u001b[0m\u001b[0m\n\u001b[1;32m    442\u001b[0m                     \u001b[0;31m# Remove the TypeError from the exception chain in\u001b[0m\u001b[0;34m\u001b[0m\u001b[0;34m\u001b[0m\u001b[0;34m\u001b[0m\u001b[0m\n",
      "\u001b[0;32m~/miniconda3/envs/accesibilidad/lib/python3.9/http/client.py\u001b[0m in \u001b[0;36mgetresponse\u001b[0;34m(self)\u001b[0m\n\u001b[1;32m   1347\u001b[0m         \u001b[0;32mtry\u001b[0m\u001b[0;34m:\u001b[0m\u001b[0;34m\u001b[0m\u001b[0;34m\u001b[0m\u001b[0m\n\u001b[1;32m   1348\u001b[0m             \u001b[0;32mtry\u001b[0m\u001b[0;34m:\u001b[0m\u001b[0;34m\u001b[0m\u001b[0;34m\u001b[0m\u001b[0m\n\u001b[0;32m-> 1349\u001b[0;31m                 \u001b[0mresponse\u001b[0m\u001b[0;34m.\u001b[0m\u001b[0mbegin\u001b[0m\u001b[0;34m(\u001b[0m\u001b[0;34m)\u001b[0m\u001b[0;34m\u001b[0m\u001b[0;34m\u001b[0m\u001b[0m\n\u001b[0m\u001b[1;32m   1350\u001b[0m             \u001b[0;32mexcept\u001b[0m \u001b[0mConnectionError\u001b[0m\u001b[0;34m:\u001b[0m\u001b[0;34m\u001b[0m\u001b[0;34m\u001b[0m\u001b[0m\n\u001b[1;32m   1351\u001b[0m                 \u001b[0mself\u001b[0m\u001b[0;34m.\u001b[0m\u001b[0mclose\u001b[0m\u001b[0;34m(\u001b[0m\u001b[0;34m)\u001b[0m\u001b[0;34m\u001b[0m\u001b[0;34m\u001b[0m\u001b[0m\n",
      "\u001b[0;32m~/miniconda3/envs/accesibilidad/lib/python3.9/http/client.py\u001b[0m in \u001b[0;36mbegin\u001b[0;34m(self)\u001b[0m\n\u001b[1;32m    314\u001b[0m         \u001b[0;31m# read until we get a non-100 response\u001b[0m\u001b[0;34m\u001b[0m\u001b[0;34m\u001b[0m\u001b[0;34m\u001b[0m\u001b[0m\n\u001b[1;32m    315\u001b[0m         \u001b[0;32mwhile\u001b[0m \u001b[0;32mTrue\u001b[0m\u001b[0;34m:\u001b[0m\u001b[0;34m\u001b[0m\u001b[0;34m\u001b[0m\u001b[0m\n\u001b[0;32m--> 316\u001b[0;31m             \u001b[0mversion\u001b[0m\u001b[0;34m,\u001b[0m \u001b[0mstatus\u001b[0m\u001b[0;34m,\u001b[0m \u001b[0mreason\u001b[0m \u001b[0;34m=\u001b[0m \u001b[0mself\u001b[0m\u001b[0;34m.\u001b[0m\u001b[0m_read_status\u001b[0m\u001b[0;34m(\u001b[0m\u001b[0;34m)\u001b[0m\u001b[0;34m\u001b[0m\u001b[0;34m\u001b[0m\u001b[0m\n\u001b[0m\u001b[1;32m    317\u001b[0m             \u001b[0;32mif\u001b[0m \u001b[0mstatus\u001b[0m \u001b[0;34m!=\u001b[0m \u001b[0mCONTINUE\u001b[0m\u001b[0;34m:\u001b[0m\u001b[0;34m\u001b[0m\u001b[0;34m\u001b[0m\u001b[0m\n\u001b[1;32m    318\u001b[0m                 \u001b[0;32mbreak\u001b[0m\u001b[0;34m\u001b[0m\u001b[0;34m\u001b[0m\u001b[0m\n",
      "\u001b[0;32m~/miniconda3/envs/accesibilidad/lib/python3.9/http/client.py\u001b[0m in \u001b[0;36m_read_status\u001b[0;34m(self)\u001b[0m\n\u001b[1;32m    275\u001b[0m \u001b[0;34m\u001b[0m\u001b[0m\n\u001b[1;32m    276\u001b[0m     \u001b[0;32mdef\u001b[0m \u001b[0m_read_status\u001b[0m\u001b[0;34m(\u001b[0m\u001b[0mself\u001b[0m\u001b[0;34m)\u001b[0m\u001b[0;34m:\u001b[0m\u001b[0;34m\u001b[0m\u001b[0;34m\u001b[0m\u001b[0m\n\u001b[0;32m--> 277\u001b[0;31m         \u001b[0mline\u001b[0m \u001b[0;34m=\u001b[0m \u001b[0mstr\u001b[0m\u001b[0;34m(\u001b[0m\u001b[0mself\u001b[0m\u001b[0;34m.\u001b[0m\u001b[0mfp\u001b[0m\u001b[0;34m.\u001b[0m\u001b[0mreadline\u001b[0m\u001b[0;34m(\u001b[0m\u001b[0m_MAXLINE\u001b[0m \u001b[0;34m+\u001b[0m \u001b[0;36m1\u001b[0m\u001b[0;34m)\u001b[0m\u001b[0;34m,\u001b[0m \u001b[0;34m\"iso-8859-1\"\u001b[0m\u001b[0;34m)\u001b[0m\u001b[0;34m\u001b[0m\u001b[0;34m\u001b[0m\u001b[0m\n\u001b[0m\u001b[1;32m    278\u001b[0m         \u001b[0;32mif\u001b[0m \u001b[0mlen\u001b[0m\u001b[0;34m(\u001b[0m\u001b[0mline\u001b[0m\u001b[0;34m)\u001b[0m \u001b[0;34m>\u001b[0m \u001b[0m_MAXLINE\u001b[0m\u001b[0;34m:\u001b[0m\u001b[0;34m\u001b[0m\u001b[0;34m\u001b[0m\u001b[0m\n\u001b[1;32m    279\u001b[0m             \u001b[0;32mraise\u001b[0m \u001b[0mLineTooLong\u001b[0m\u001b[0;34m(\u001b[0m\u001b[0;34m\"status line\"\u001b[0m\u001b[0;34m)\u001b[0m\u001b[0;34m\u001b[0m\u001b[0;34m\u001b[0m\u001b[0m\n",
      "\u001b[0;32m~/miniconda3/envs/accesibilidad/lib/python3.9/socket.py\u001b[0m in \u001b[0;36mreadinto\u001b[0;34m(self, b)\u001b[0m\n\u001b[1;32m    702\u001b[0m         \u001b[0;32mwhile\u001b[0m \u001b[0;32mTrue\u001b[0m\u001b[0;34m:\u001b[0m\u001b[0;34m\u001b[0m\u001b[0;34m\u001b[0m\u001b[0m\n\u001b[1;32m    703\u001b[0m             \u001b[0;32mtry\u001b[0m\u001b[0;34m:\u001b[0m\u001b[0;34m\u001b[0m\u001b[0;34m\u001b[0m\u001b[0m\n\u001b[0;32m--> 704\u001b[0;31m                 \u001b[0;32mreturn\u001b[0m \u001b[0mself\u001b[0m\u001b[0;34m.\u001b[0m\u001b[0m_sock\u001b[0m\u001b[0;34m.\u001b[0m\u001b[0mrecv_into\u001b[0m\u001b[0;34m(\u001b[0m\u001b[0mb\u001b[0m\u001b[0;34m)\u001b[0m\u001b[0;34m\u001b[0m\u001b[0;34m\u001b[0m\u001b[0m\n\u001b[0m\u001b[1;32m    705\u001b[0m             \u001b[0;32mexcept\u001b[0m \u001b[0mtimeout\u001b[0m\u001b[0;34m:\u001b[0m\u001b[0;34m\u001b[0m\u001b[0;34m\u001b[0m\u001b[0m\n\u001b[1;32m    706\u001b[0m                 \u001b[0mself\u001b[0m\u001b[0;34m.\u001b[0m\u001b[0m_timeout_occurred\u001b[0m \u001b[0;34m=\u001b[0m \u001b[0;32mTrue\u001b[0m\u001b[0;34m\u001b[0m\u001b[0;34m\u001b[0m\u001b[0m\n",
      "\u001b[0;31mKeyboardInterrupt\u001b[0m: "
     ]
    }
   ],
   "source": [
    "matriz_completa = parallel_get_od_matrix-(agebs_zmvm_centroides, areas_verdes_centroides, njobs=8)\n",
    "matriz_completa.head(20)"
   ]
  },
  {
   "cell_type": "code",
   "execution_count": null,
   "id": "8f0fba20-f245-4217-af13-551b0edc425d",
   "metadata": {},
   "outputs": [],
   "source": [
    "matriz_completa.to_pickle(\"datos/matriz_od_walking.pkl\")"
   ]
  },
  {
   "cell_type": "code",
   "execution_count": null,
   "id": "21e781ea-fe0d-4447-8fd5-27f2d08d68f3",
   "metadata": {},
   "outputs": [],
   "source": []
  }
 ],
 "metadata": {
  "kernelspec": {
   "display_name": "Python 3 (ipykernel)",
   "language": "python",
   "name": "python3"
  },
  "language_info": {
   "codemirror_mode": {
    "name": "ipython",
    "version": 3
   },
   "file_extension": ".py",
   "mimetype": "text/x-python",
   "name": "python",
   "nbconvert_exporter": "python",
   "pygments_lexer": "ipython3",
   "version": "3.9.6"
  }
 },
 "nbformat": 4,
 "nbformat_minor": 5
}
