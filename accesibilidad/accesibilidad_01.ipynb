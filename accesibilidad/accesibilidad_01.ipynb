{
 "cells": [
  {
   "cell_type": "markdown",
   "id": "6ebe5c0b-863e-43be-ac4e-dcbba8063585",
   "metadata": {},
   "source": [
    "# Accesibilidad a áreas verdes en la Zona Metropolitana del Valle de México\n",
    "\n",
    "En este taller vamos a calcular diferentes modelos de accesibilidad a áreas verdes. La idea es ir trabajando de lo más simple a los más complejo. Empezaremos con un modelo de conectividad basado sólo en distancias entre centroides e iremos complicando las cosas a partir de ahí, primero usando conectividad de red..."
   ]
  },
  {
   "cell_type": "markdown",
   "id": "5a9731bb-b550-46a7-81a3-573f712b0513",
   "metadata": {},
   "source": [
    "## Preparación de datos\n",
    "\n",
    "Como siempre, lo primero que tenemos que hacer es preparar los datos. En este caso vamos a usar el marco cartográfico del Censo de 2020 a nivel AGEB y una cartografía de áreas verdes que preparé para un proyecto integrando datos de INEGI y de OSM.\n",
    "\n",
    "La cartografía de áreas verdes viene en un geopackage para todo el país y la cartografía censal viene en shapes para la CDMX y el Estado de México. Para cortar todo con la silueta de la ZMVM tenemos un shaper con el límite metropolitano.\n",
    "\n",
    "Los datos para obtener la demanda (población, en principio) vienen en csvs que tenemos que unir con la geometría de las manzanas. Eso lo haremos después de tener los recortes para economizar un poco."
   ]
  },
  {
   "cell_type": "code",
   "execution_count": 1,
   "id": "e74f0360-7e85-43ba-b141-611ed009e4f3",
   "metadata": {},
   "outputs": [],
   "source": [
    "import pandas as pd\n",
    "import geopandas as gpd"
   ]
  },
  {
   "cell_type": "markdown",
   "id": "a9fe78c1-d165-4afe-a23d-25c5d5417f07",
   "metadata": {},
   "source": [
    "### Leer datos"
   ]
  },
  {
   "cell_type": "code",
   "execution_count": 2,
   "id": "1b87e1c7-88d1-448a-a680-2a86cd0b2853",
   "metadata": {},
   "outputs": [],
   "source": [
    "cdmx = gpd.read_file(\"datos/agebs_cdmx_2020.zip\")\n",
    "edomex = gpd.read_file(\"datos/agebs_edomex_2020.zip\")\n",
    "areas_verdes = gpd.read_file(\"datos/parques.gpkg\", layer='parques')\n",
    "limite_metropolitano = gpd.read_file(\"datos/limite_metropolitano.zip\")"
   ]
  },
  {
   "cell_type": "markdown",
   "id": "644dae2a-77a3-4dd5-8bec-7d9ae1aa7755",
   "metadata": {},
   "source": [
    "Hacemos un merge de las agebs para tenerlas en un solo dataframe"
   ]
  },
  {
   "cell_type": "code",
   "execution_count": 3,
   "id": "206617d3-b942-4b7e-b1cc-4dd0d3db8e48",
   "metadata": {},
   "outputs": [
    {
     "data": {
      "text/html": [
       "<div>\n",
       "<style scoped>\n",
       "    .dataframe tbody tr th:only-of-type {\n",
       "        vertical-align: middle;\n",
       "    }\n",
       "\n",
       "    .dataframe tbody tr th {\n",
       "        vertical-align: top;\n",
       "    }\n",
       "\n",
       "    .dataframe thead th {\n",
       "        text-align: right;\n",
       "    }\n",
       "</style>\n",
       "<table border=\"1\" class=\"dataframe\">\n",
       "  <thead>\n",
       "    <tr style=\"text-align: right;\">\n",
       "      <th></th>\n",
       "      <th>CVEGEO</th>\n",
       "      <th>CVE_ENT</th>\n",
       "      <th>CVE_MUN</th>\n",
       "      <th>CVE_LOC</th>\n",
       "      <th>CVE_AGEB</th>\n",
       "      <th>geometry</th>\n",
       "    </tr>\n",
       "  </thead>\n",
       "  <tbody>\n",
       "    <tr>\n",
       "      <th>0</th>\n",
       "      <td>0901000011716</td>\n",
       "      <td>09</td>\n",
       "      <td>010</td>\n",
       "      <td>0001</td>\n",
       "      <td>1716</td>\n",
       "      <td>POLYGON ((2787237.541 816989.461, 2787288.728 ...</td>\n",
       "    </tr>\n",
       "    <tr>\n",
       "      <th>1</th>\n",
       "      <td>0901000012150</td>\n",
       "      <td>09</td>\n",
       "      <td>010</td>\n",
       "      <td>0001</td>\n",
       "      <td>2150</td>\n",
       "      <td>POLYGON ((2794154.458 823013.444, 2794155.774 ...</td>\n",
       "    </tr>\n",
       "    <tr>\n",
       "      <th>2</th>\n",
       "      <td>0901000011133</td>\n",
       "      <td>09</td>\n",
       "      <td>010</td>\n",
       "      <td>0001</td>\n",
       "      <td>1133</td>\n",
       "      <td>POLYGON ((2795690.723 820050.788, 2795684.238 ...</td>\n",
       "    </tr>\n",
       "    <tr>\n",
       "      <th>3</th>\n",
       "      <td>0901000011307</td>\n",
       "      <td>09</td>\n",
       "      <td>010</td>\n",
       "      <td>0001</td>\n",
       "      <td>1307</td>\n",
       "      <td>POLYGON ((2792584.475 815678.668, 2792624.325 ...</td>\n",
       "    </tr>\n",
       "    <tr>\n",
       "      <th>4</th>\n",
       "      <td>0901000010281</td>\n",
       "      <td>09</td>\n",
       "      <td>010</td>\n",
       "      <td>0001</td>\n",
       "      <td>0281</td>\n",
       "      <td>POLYGON ((2788845.392 823526.074, 2788840.549 ...</td>\n",
       "    </tr>\n",
       "    <tr>\n",
       "      <th>...</th>\n",
       "      <td>...</td>\n",
       "      <td>...</td>\n",
       "      <td>...</td>\n",
       "      <td>...</td>\n",
       "      <td>...</td>\n",
       "      <td>...</td>\n",
       "    </tr>\n",
       "    <tr>\n",
       "      <th>4315</th>\n",
       "      <td>151250001004A</td>\n",
       "      <td>15</td>\n",
       "      <td>125</td>\n",
       "      <td>0001</td>\n",
       "      <td>004A</td>\n",
       "      <td>POLYGON ((2808390.934 857912.251, 2808614.795 ...</td>\n",
       "    </tr>\n",
       "    <tr>\n",
       "      <th>4316</th>\n",
       "      <td>1512500010016</td>\n",
       "      <td>15</td>\n",
       "      <td>125</td>\n",
       "      <td>0001</td>\n",
       "      <td>0016</td>\n",
       "      <td>POLYGON ((2808318.468 857265.867, 2808312.961 ...</td>\n",
       "    </tr>\n",
       "    <tr>\n",
       "      <th>4317</th>\n",
       "      <td>1512500010020</td>\n",
       "      <td>15</td>\n",
       "      <td>125</td>\n",
       "      <td>0001</td>\n",
       "      <td>0020</td>\n",
       "      <td>POLYGON ((2807637.181 858200.578, 2807639.598 ...</td>\n",
       "    </tr>\n",
       "    <tr>\n",
       "      <th>4318</th>\n",
       "      <td>1512500070054</td>\n",
       "      <td>15</td>\n",
       "      <td>125</td>\n",
       "      <td>0007</td>\n",
       "      <td>0054</td>\n",
       "      <td>POLYGON ((2806574.677 856458.207, 2806484.183 ...</td>\n",
       "    </tr>\n",
       "    <tr>\n",
       "      <th>4319</th>\n",
       "      <td>1512500070069</td>\n",
       "      <td>15</td>\n",
       "      <td>125</td>\n",
       "      <td>0007</td>\n",
       "      <td>0069</td>\n",
       "      <td>POLYGON ((2805880.696 856767.829, 2805969.314 ...</td>\n",
       "    </tr>\n",
       "  </tbody>\n",
       "</table>\n",
       "<p>6751 rows × 6 columns</p>\n",
       "</div>"
      ],
      "text/plain": [
       "             CVEGEO CVE_ENT CVE_MUN CVE_LOC CVE_AGEB  \\\n",
       "0     0901000011716      09     010    0001     1716   \n",
       "1     0901000012150      09     010    0001     2150   \n",
       "2     0901000011133      09     010    0001     1133   \n",
       "3     0901000011307      09     010    0001     1307   \n",
       "4     0901000010281      09     010    0001     0281   \n",
       "...             ...     ...     ...     ...      ...   \n",
       "4315  151250001004A      15     125    0001     004A   \n",
       "4316  1512500010016      15     125    0001     0016   \n",
       "4317  1512500010020      15     125    0001     0020   \n",
       "4318  1512500070054      15     125    0007     0054   \n",
       "4319  1512500070069      15     125    0007     0069   \n",
       "\n",
       "                                               geometry  \n",
       "0     POLYGON ((2787237.541 816989.461, 2787288.728 ...  \n",
       "1     POLYGON ((2794154.458 823013.444, 2794155.774 ...  \n",
       "2     POLYGON ((2795690.723 820050.788, 2795684.238 ...  \n",
       "3     POLYGON ((2792584.475 815678.668, 2792624.325 ...  \n",
       "4     POLYGON ((2788845.392 823526.074, 2788840.549 ...  \n",
       "...                                                 ...  \n",
       "4315  POLYGON ((2808390.934 857912.251, 2808614.795 ...  \n",
       "4316  POLYGON ((2808318.468 857265.867, 2808312.961 ...  \n",
       "4317  POLYGON ((2807637.181 858200.578, 2807639.598 ...  \n",
       "4318  POLYGON ((2806574.677 856458.207, 2806484.183 ...  \n",
       "4319  POLYGON ((2805880.696 856767.829, 2805969.314 ...  \n",
       "\n",
       "[6751 rows x 6 columns]"
      ]
     },
     "execution_count": 3,
     "metadata": {},
     "output_type": "execute_result"
    }
   ],
   "source": [
    "agebs_todas = pd.concat([cdmx, edomex])\n",
    "agebs_todas"
   ]
  },
  {
   "cell_type": "markdown",
   "id": "f632c849-f4c5-454a-85d1-00ccac2d6dd5",
   "metadata": {},
   "source": [
    "### Proyectar\n",
    "Para poder cortar las geometrías y trabajarlas todas juntas necesitamos que estén en la misma proyección"
   ]
  },
  {
   "cell_type": "code",
   "execution_count": 12,
   "id": "c47c108c-70cc-4338-b9a4-abf4563296c6",
   "metadata": {},
   "outputs": [
    {
     "name": "stdout",
     "output_type": "stream",
     "text": [
      "PROJCS[\"MEXICO_ITRF_2008_LCC\",GEOGCS[\"ITRF2008\",DATUM[\"International_Terrestrial_Reference_Frame_2008\",SPHEROID[\"GRS 1980\",6378137,298.257222101,AUTHORITY[\"EPSG\",\"7019\"]],AUTHORITY[\"EPSG\",\"1061\"]],PRIMEM[\"Greenwich\",0],UNIT[\"Degree\",0.0174532925199433],AUTHORITY[\"EPSG\",\"8999\"]],PROJECTION[\"Lambert_Conformal_Conic_2SP\"],PARAMETER[\"latitude_of_origin\",12],PARAMETER[\"central_meridian\",-102],PARAMETER[\"standard_parallel_1\",17.5],PARAMETER[\"standard_parallel_2\",29.5],PARAMETER[\"false_easting\",2500000],PARAMETER[\"false_northing\",0],UNIT[\"metre\",1,AUTHORITY[\"EPSG\",\"9001\"]],AXIS[\"Easting\",EAST],AXIS[\"Northing\",NORTH]]\n",
      "PROJCS[\"MEXICO_ITRF_2008_LCC\",GEOGCS[\"ITRF2008\",DATUM[\"International_Terrestrial_Reference_Frame_2008\",SPHEROID[\"GRS 1980\",6378137,298.257222101,AUTHORITY[\"EPSG\",\"7019\"]],AUTHORITY[\"EPSG\",\"1061\"]],PRIMEM[\"Greenwich\",0],UNIT[\"Degree\",0.0174532925199433],AUTHORITY[\"EPSG\",\"8999\"]],PROJECTION[\"Lambert_Conformal_Conic_2SP\"],PARAMETER[\"latitude_of_origin\",12],PARAMETER[\"central_meridian\",-102],PARAMETER[\"standard_parallel_1\",17.5],PARAMETER[\"standard_parallel_2\",29.5],PARAMETER[\"false_easting\",2500000],PARAMETER[\"false_northing\",0],UNIT[\"metre\",1,AUTHORITY[\"EPSG\",\"9001\"]],AXIS[\"Easting\",EAST],AXIS[\"Northing\",NORTH]]\n",
      "PROJCS[\"International_Terrestrial_Reference_Frame_1992Lambert_Conformal_Conic_2SP\",GEOGCS[\"GCS_International_Terrestrial_Reference_Frame_1992\",DATUM[\"International_Terrestrial_Reference_Frame_1992\",SPHEROID[\"GRS 1980\",6378137,298.257222101],AUTHORITY[\"EPSG\",\"6651\"]],PRIMEM[\"Greenwich\",0],UNIT[\"Degree\",0.0174532925199433],AUTHORITY[\"EPSG\",\"4651\"]],PROJECTION[\"Lambert_Conformal_Conic_2SP\"],PARAMETER[\"central_meridian\",-102],PARAMETER[\"latitude_of_origin\",12],PARAMETER[\"false_easting\",2500000],PARAMETER[\"false_northing\",0],PARAMETER[\"standard_parallel_1\",17.5],PARAMETER[\"standard_parallel_2\",29.5],PARAMETER[\"Scale_Factor\",1],UNIT[\"metre\",1,AUTHORITY[\"EPSG\",\"9001\"]],AXIS[\"Easting\",EAST],AXIS[\"Northing\",NORTH]]\n",
      "epsg:32614\n"
     ]
    }
   ],
   "source": [
    "print(cdmx.crs)\n",
    "print(edomex.crs)\n",
    "print(areas_verdes.crs)\n",
    "print(limite_metropolitano.crs)"
   ]
  },
  {
   "cell_type": "markdown",
   "id": "4f87de15-db54-4074-93eb-21b7f66469af",
   "metadata": {},
   "source": [
    "Las primeras dos están en la proyección nueva de INEGI, las áreas verdes en la anterior y el límite metropolitano está en 32614. Tenemos que poner todas en la misma proyección, podría ser cualquiera de las planas (vamos a medir longitudes). Usemos la nueva del INEGI"
   ]
  },
  {
   "cell_type": "code",
   "execution_count": 15,
   "id": "686ee52d-373b-4a7f-aa94-ae552ed33ea1",
   "metadata": {},
   "outputs": [],
   "source": [
    "areas_verdes = areas_verdes.to_crs(cdmx.crs)\n",
    "limite_metropolitano = limite_metropolitano.to_crs(cdmx.crs)"
   ]
  },
  {
   "cell_type": "markdown",
   "id": "567821e5-07a0-4b13-b64d-4d7999986aaa",
   "metadata": {},
   "source": [
    "### Cortar con el límite metropolitano"
   ]
  },
  {
   "cell_type": "code",
   "execution_count": 21,
   "id": "f2f68b2e-39ab-4b00-971d-bb6b2070a671",
   "metadata": {},
   "outputs": [],
   "source": [
    "from geopandas.tools import sjoin\n",
    "areas_verdes = sjoin(areas_verdes, limite_metropolitano)\n",
    "agebs_zmvm = sjoin(agebs_todas, limite_metropolitano)"
   ]
  },
  {
   "cell_type": "markdown",
   "id": "8fee0b68-7f84-4a12-a832-7fce7776224a",
   "metadata": {},
   "source": [
    "### Áreas y centroides\n",
    "\n",
    "Como vamos a trabajar la accesibilidad en primera instancia sólo entre los centroides de las agebs y las de las áreas verdes, entonces vamos a necesitar dataframes con el área de los parques (que vamos a usar como la oferta en el modelo de accesibilidad) y con los centroides de las agebs y su población total (que va a ser la demanda).\n",
    "\n",
    "**Nota:** vamos a hacer una copia de las capas para usdar los centroides, en caso de que queramos después usar las geometrías originales"
   ]
  },
  {
   "cell_type": "code",
   "execution_count": 31,
   "id": "21b79d76-495c-4d70-a466-dffb7a0b9701",
   "metadata": {},
   "outputs": [],
   "source": [
    "areas_verdes['area'] = areas_verdes.geometry.area\n",
    "areas_verdes_centroides = areas_verdes.copy()\n",
    "areas_verdes_centroides['geometry'] = areas_verdes_centroides.centroid\n",
    "# Nos quedamos sólo con los campos que queremos\n",
    "areas_verdes_centroides = areas_verdes_centroides.loc[:, ['geometry', 'area']]\n",
    "agebs_zmvm_centroides = agebs_zmvm.copy()\n",
    "agebs_zmvm_centroides['geometry'] = agebs_zmvm_centroides.centroid\n",
    "# Nos quedamos sólo con los campos que queremos\n",
    "agebs_zmvm_centroides = agebs_zmvm_centroides.loc[:, ['CVEGEO', 'geometry']]"
   ]
  },
  {
   "cell_type": "markdown",
   "id": "f295964c-464d-4338-ad73-b30602d39a7e",
   "metadata": {},
   "source": [
    "### Datos de población\n",
    "Para modelar la demanda necesitamos ahora unir a las agebs los datos de población, esos vienen en csvs por estado. Lo primero es leerlos y juntarlos en un solo dataframe"
   ]
  },
  {
   "cell_type": "code",
   "execution_count": 35,
   "id": "ea6727b4-027f-4c4c-be68-ceeae1bdbf1a",
   "metadata": {},
   "outputs": [],
   "source": [
    "datos_cdmx = pd.read_csv(\"datos/conjunto_de_datos_ageb_urbana_09_cpv2020.zip\", dtype={'ENTIDAD':str, 'MUN':str, 'LOC':str, 'AGEB':str})\n",
    "datos_edomex = pd.read_csv(\"datos/conjunto_de_datos_ageb_urbana_15_cpv2020.zip\", dtype={'ENTIDAD':str, 'MUN':str, 'LOC':str, 'AGEB':str})\n",
    "datos_zmvm = pd.concat([datos_cdmx, datos_edomex])\n",
    "# Construimos una columna con la clave de ageb\n",
    "datos_zmvm['CVEGEO'] = datos_zmvm['ENTIDAD'] + datos_zmvm['MUN'] + datos_zmvm['LOC'] + datos_zmvm['AGEB']\n",
    "# Nos quedamos sólo con las columnas que vamos a usar (sólo queremos los datos de población)\n",
    "datos_zmvm = datos_zmvm.loc[:, ['CVEGEO', 'POBTOT']]"
   ]
  },
  {
   "cell_type": "code",
   "execution_count": 36,
   "id": "d3d16683-b90b-4c63-967c-0e9b6c6db363",
   "metadata": {},
   "outputs": [
    {
     "data": {
      "text/html": [
       "<div>\n",
       "<style scoped>\n",
       "    .dataframe tbody tr th:only-of-type {\n",
       "        vertical-align: middle;\n",
       "    }\n",
       "\n",
       "    .dataframe tbody tr th {\n",
       "        vertical-align: top;\n",
       "    }\n",
       "\n",
       "    .dataframe thead th {\n",
       "        text-align: right;\n",
       "    }\n",
       "</style>\n",
       "<table border=\"1\" class=\"dataframe\">\n",
       "  <thead>\n",
       "    <tr style=\"text-align: right;\">\n",
       "      <th></th>\n",
       "      <th>CVEGEO</th>\n",
       "      <th>POBTOT</th>\n",
       "    </tr>\n",
       "  </thead>\n",
       "  <tbody>\n",
       "    <tr>\n",
       "      <th>0</th>\n",
       "      <td>0900000000000</td>\n",
       "      <td>9209944</td>\n",
       "    </tr>\n",
       "    <tr>\n",
       "      <th>1</th>\n",
       "      <td>0900200000000</td>\n",
       "      <td>432205</td>\n",
       "    </tr>\n",
       "    <tr>\n",
       "      <th>2</th>\n",
       "      <td>0900200010000</td>\n",
       "      <td>432205</td>\n",
       "    </tr>\n",
       "    <tr>\n",
       "      <th>3</th>\n",
       "      <td>0900200010010</td>\n",
       "      <td>3183</td>\n",
       "    </tr>\n",
       "    <tr>\n",
       "      <th>4</th>\n",
       "      <td>0900200010010</td>\n",
       "      <td>159</td>\n",
       "    </tr>\n",
       "    <tr>\n",
       "      <th>...</th>\n",
       "      <td>...</td>\n",
       "      <td>...</td>\n",
       "    </tr>\n",
       "    <tr>\n",
       "      <th>141525</th>\n",
       "      <td>1512500070069</td>\n",
       "      <td>11</td>\n",
       "    </tr>\n",
       "    <tr>\n",
       "      <th>141526</th>\n",
       "      <td>1512500070069</td>\n",
       "      <td>19</td>\n",
       "    </tr>\n",
       "    <tr>\n",
       "      <th>141527</th>\n",
       "      <td>1512500070069</td>\n",
       "      <td>3</td>\n",
       "    </tr>\n",
       "    <tr>\n",
       "      <th>141528</th>\n",
       "      <td>1512500070069</td>\n",
       "      <td>12</td>\n",
       "    </tr>\n",
       "    <tr>\n",
       "      <th>141529</th>\n",
       "      <td>1512500070069</td>\n",
       "      <td>0</td>\n",
       "    </tr>\n",
       "  </tbody>\n",
       "</table>\n",
       "<p>210471 rows × 2 columns</p>\n",
       "</div>"
      ],
      "text/plain": [
       "               CVEGEO   POBTOT\n",
       "0       0900000000000  9209944\n",
       "1       0900200000000   432205\n",
       "2       0900200010000   432205\n",
       "3       0900200010010     3183\n",
       "4       0900200010010      159\n",
       "...               ...      ...\n",
       "141525  1512500070069       11\n",
       "141526  1512500070069       19\n",
       "141527  1512500070069        3\n",
       "141528  1512500070069       12\n",
       "141529  1512500070069        0\n",
       "\n",
       "[210471 rows x 2 columns]"
      ]
     },
     "execution_count": 36,
     "metadata": {},
     "output_type": "execute_result"
    }
   ],
   "source": [
    "datos_zmvm"
   ]
  },
  {
   "cell_type": "code",
   "execution_count": null,
   "id": "a75aaab6-a507-4280-8aab-c396e052c630",
   "metadata": {},
   "outputs": [],
   "source": []
  }
 ],
 "metadata": {
  "kernelspec": {
   "display_name": "Python 3 (ipykernel)",
   "language": "python",
   "name": "python3"
  },
  "language_info": {
   "codemirror_mode": {
    "name": "ipython",
    "version": 3
   },
   "file_extension": ".py",
   "mimetype": "text/x-python",
   "name": "python",
   "nbconvert_exporter": "python",
   "pygments_lexer": "ipython3",
   "version": "3.9.6"
  }
 },
 "nbformat": 4,
 "nbformat_minor": 5
}
